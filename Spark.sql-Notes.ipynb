{
 "cells": [
  {
   "cell_type": "code",
   "execution_count": 0,
   "metadata": {
    "application/vnd.databricks.v1+cell": {
     "cellMetadata": {
      "byteLimit": 2048000,
      "rowLimit": 10000
     },
     "inputWidgets": {},
     "nuid": "abed27ee-ec07-4b7c-9ac8-522576c47f34",
     "showTitle": false,
     "tableResultSettingsMap": {},
     "title": ""
    }
   },
   "outputs": [],
   "source": [
    "from pyspark.sql.functions import * \n",
    "from pyspark.sql.types import *\n",
    "from pyspark import SparkContext, SparkConf\n",
    "from pyspark.sql import SparkSession\n",
    "\n",
    "# Initialize SparkSession (this is automatically set in Databricks, but can be customized if needed)\n",
    "spark = SparkSession.builder \\\n",
    "    .appName(\"pyspark-databricks\") \\\n",
    "    .config(\"spark.sql.shuffle.partitions\", \"1\") \\\n",
    "    .config(\"spark.default.parallelism\", \"1\") \\\n",
    "    .getOrCreate()\n",
    "\n",
    "# Access the SparkContext from the SparkSession\n",
    "sc = spark.sparkContext"
   ]
  },
  {
   "cell_type": "markdown",
   "metadata": {
    "application/vnd.databricks.v1+cell": {
     "cellMetadata": {
      "byteLimit": 2048000,
      "rowLimit": 10000
     },
     "inputWidgets": {},
     "nuid": "4912269b-c891-4049-af7e-b1af17b90fe0",
     "showTitle": false,
     "tableResultSettingsMap": {},
     "title": ""
    }
   },
   "source": [
    "###Data Preparation"
   ]
  },
  {
   "cell_type": "code",
   "execution_count": 0,
   "metadata": {
    "application/vnd.databricks.v1+cell": {
     "cellMetadata": {
      "byteLimit": 2048000,
      "rowLimit": 10000
     },
     "inputWidgets": {},
     "nuid": "a163f93f-3828-4b65-b938-3e81e39e7286",
     "showTitle": false,
     "tableResultSettingsMap": {},
     "title": ""
    }
   },
   "outputs": [
    {
     "output_type": "stream",
     "name": "stdout",
     "output_type": "stream",
     "text": [
      "+---+----------+------+-------------+--------------+-------+\n| id|     tdate|amount|     category|       product|spendby|\n+---+----------+------+-------------+--------------+-------+\n|  0|06-26-2011| 300.4|     Exercise| GymnasticsPro|   cash|\n|  1|05-26-2011| 200.0|Exercise Band| Weightlifting| credit|\n|  2|06-01-2011| 300.4|     Exercise|Gymnastics Pro|   cash|\n|  3|06-05-2011| 100.0|   Gymnastics|         Rings| credit|\n|  4|12-17-2011| 300.0|  Team Sports|         Field|   cash|\n|  5|02-14-2011| 200.0|   Gymnastics|          null|   cash|\n|  6|06-05-2011| 100.0|     Exercise|         Rings| credit|\n|  7|12-17-2011| 300.0|  Team Sports|         Field|   cash|\n|  8|02-14-2011| 200.0|   Gymnastics|          null|   cash|\n+---+----------+------+-------------+--------------+-------+\n\n+---+----------+------+-----------+-------+-------+\n| id|     tdate|amount|   category|product|spendby|\n+---+----------+------+-----------+-------+-------+\n|  4|12-17-2011| 300.0|Team Sports|  Field|   cash|\n|  5|02-14-2011| 200.0| Gymnastics|   null|   cash|\n|  6|02-14-2011| 200.0|     Winter|   null|   cash|\n|  7|02-14-2011| 200.0|     Winter|   null|   cash|\n+---+----------+------+-----------+-------+-------+\n\n+---+----+\n| id|name|\n+---+----+\n|  1| raj|\n|  2|ravi|\n|  3| sai|\n|  5|rani|\n+---+----+\n\n+---+-------+\n| id|product|\n+---+-------+\n|  1|  mouse|\n|  3| mobile|\n|  7| laptop|\n+---+-------+\n\n"
     ]
    }
   ],
   "source": [
    "data = [\n",
    "    (0, \"06-26-2011\", 300.4, \"Exercise\", \"GymnasticsPro\", \"cash\"),\n",
    "    (1, \"05-26-2011\", 200.0, \"Exercise Band\", \"Weightlifting\", \"credit\"),\n",
    "    (2, \"06-01-2011\", 300.4, \"Exercise\", \"Gymnastics Pro\", \"cash\"),\n",
    "    (3, \"06-05-2011\", 100.0, \"Gymnastics\", \"Rings\", \"credit\"),\n",
    "    (4, \"12-17-2011\", 300.0, \"Team Sports\", \"Field\", \"cash\"),\n",
    "    (5, \"02-14-2011\", 200.0, \"Gymnastics\", None, \"cash\"),\n",
    "    (6, \"06-05-2011\", 100.0, \"Exercise\", \"Rings\", \"credit\"),\n",
    "    (7, \"12-17-2011\", 300.0, \"Team Sports\", \"Field\", \"cash\"),\n",
    "    (8, \"02-14-2011\", 200.0, \"Gymnastics\", None, \"cash\")\n",
    "]\n",
    "\n",
    "df = spark.createDataFrame(data, [\"id\", \"tdate\", \"amount\", \"category\", \"product\", \"spendby\"])\n",
    "df.show()\n",
    "\n",
    "data2 = [\n",
    "    (4, \"12-17-2011\", 300.0, \"Team Sports\", \"Field\", \"cash\"),\n",
    "    (5, \"02-14-2011\", 200.0, \"Gymnastics\", None, \"cash\"),\n",
    "    (6, \"02-14-2011\", 200.0, \"Winter\", None, \"cash\"),\n",
    "    (7, \"02-14-2011\", 200.0, \"Winter\", None, \"cash\")\n",
    "]\n",
    "\n",
    "df1 = spark.createDataFrame(data2, [\"id\", \"tdate\", \"amount\", \"category\", \"product\", \"spendby\"])\n",
    "df1.show()\n",
    "\n",
    "data4 = [\n",
    "    (1, \"raj\"),\n",
    "    (2, \"ravi\"),\n",
    "    (3, \"sai\"),\n",
    "    (5, \"rani\")\n",
    "]\n",
    "\n",
    "cust = spark.createDataFrame(data4, [\"id\", \"name\"])\n",
    "cust.show()\n",
    "\n",
    "data3 = [\n",
    "    (1, \"mouse\"),\n",
    "    (3, \"mobile\"),\n",
    "    (7, \"laptop\")\n",
    "]\n",
    "\n",
    "prod = spark.createDataFrame(data3, [\"id\", \"product\"])\n",
    "prod.show()\n",
    "\n",
    "# Register DataFrames as temporary views\n",
    "df.createOrReplaceTempView(\"df\")\n",
    "df1.createOrReplaceTempView(\"df1\")\n",
    "cust.createOrReplaceTempView(\"cust\")\n",
    "prod.createOrReplaceTempView(\"prod\")\n"
   ]
  },
  {
   "cell_type": "markdown",
   "metadata": {
    "application/vnd.databricks.v1+cell": {
     "cellMetadata": {
      "byteLimit": 2048000,
      "rowLimit": 10000
     },
     "inputWidgets": {},
     "nuid": "7fea6c63-92a7-4dd7-9ed3-37b38160ee3e",
     "showTitle": false,
     "tableResultSettingsMap": {},
     "title": ""
    }
   },
   "source": [
    "####Pyspark-sql queries begin..."
   ]
  },
  {
   "cell_type": "code",
   "execution_count": 0,
   "metadata": {
    "application/vnd.databricks.v1+cell": {
     "cellMetadata": {
      "byteLimit": 2048000,
      "rowLimit": 10000
     },
     "inputWidgets": {},
     "nuid": "56b1bdb3-6ddf-4563-b745-239eaebf391f",
     "showTitle": false,
     "tableResultSettingsMap": {},
     "title": ""
    }
   },
   "outputs": [
    {
     "output_type": "display_data",
     "data": {
      "text/html": [
       "<style scoped>\n",
       "  .table-result-container {\n",
       "    max-height: 300px;\n",
       "    overflow: auto;\n",
       "  }\n",
       "  table, th, td {\n",
       "    border: 1px solid black;\n",
       "    border-collapse: collapse;\n",
       "  }\n",
       "  th, td {\n",
       "    padding: 5px;\n",
       "  }\n",
       "  th {\n",
       "    text-align: left;\n",
       "  }\n",
       "</style><div class='table-result-container'><table class='table-result'><thead style='background-color: white'><tr><th>id</th><th>tdate</th><th>amount</th><th>category</th><th>product</th><th>spendby</th></tr></thead><tbody><tr><td>0</td><td>06-26-2011</td><td>300.4</td><td>Exercise</td><td>GymnasticsPro</td><td>cash</td></tr><tr><td>1</td><td>05-26-2011</td><td>200.0</td><td>Exercise Band</td><td>Weightlifting</td><td>credit</td></tr><tr><td>2</td><td>06-01-2011</td><td>300.4</td><td>Exercise</td><td>Gymnastics Pro</td><td>cash</td></tr><tr><td>3</td><td>06-05-2011</td><td>100.0</td><td>Gymnastics</td><td>Rings</td><td>credit</td></tr><tr><td>4</td><td>12-17-2011</td><td>300.0</td><td>Team Sports</td><td>Field</td><td>cash</td></tr><tr><td>5</td><td>02-14-2011</td><td>200.0</td><td>Gymnastics</td><td>null</td><td>cash</td></tr><tr><td>6</td><td>06-05-2011</td><td>100.0</td><td>Exercise</td><td>Rings</td><td>credit</td></tr><tr><td>7</td><td>12-17-2011</td><td>300.0</td><td>Team Sports</td><td>Field</td><td>cash</td></tr><tr><td>8</td><td>02-14-2011</td><td>200.0</td><td>Gymnastics</td><td>null</td><td>cash</td></tr></tbody></table></div>"
      ]
     },
     "metadata": {
      "application/vnd.databricks.v1+output": {
       "addedWidgets": {},
       "aggData": [],
       "aggError": "",
       "aggOverflow": false,
       "aggSchema": [],
       "aggSeriesLimitReached": false,
       "aggType": "",
       "arguments": {},
       "columnCustomDisplayInfos": {},
       "data": [
        [
         0,
         "06-26-2011",
         300.4,
         "Exercise",
         "GymnasticsPro",
         "cash"
        ],
        [
         1,
         "05-26-2011",
         200.0,
         "Exercise Band",
         "Weightlifting",
         "credit"
        ],
        [
         2,
         "06-01-2011",
         300.4,
         "Exercise",
         "Gymnastics Pro",
         "cash"
        ],
        [
         3,
         "06-05-2011",
         100.0,
         "Gymnastics",
         "Rings",
         "credit"
        ],
        [
         4,
         "12-17-2011",
         300.0,
         "Team Sports",
         "Field",
         "cash"
        ],
        [
         5,
         "02-14-2011",
         200.0,
         "Gymnastics",
         null,
         "cash"
        ],
        [
         6,
         "06-05-2011",
         100.0,
         "Exercise",
         "Rings",
         "credit"
        ],
        [
         7,
         "12-17-2011",
         300.0,
         "Team Sports",
         "Field",
         "cash"
        ],
        [
         8,
         "02-14-2011",
         200.0,
         "Gymnastics",
         null,
         "cash"
        ]
       ],
       "datasetInfos": [],
       "dbfsResultPath": null,
       "isJsonSchema": true,
       "metadata": {},
       "overflow": false,
       "plotOptions": {
        "customPlotOptions": {},
        "displayType": "table",
        "pivotAggregation": null,
        "pivotColumns": null,
        "xColumns": null,
        "yColumns": null
       },
       "removedWidgets": [],
       "schema": [
        {
         "metadata": "{}",
         "name": "id",
         "type": "\"long\""
        },
        {
         "metadata": "{}",
         "name": "tdate",
         "type": "\"string\""
        },
        {
         "metadata": "{}",
         "name": "amount",
         "type": "\"double\""
        },
        {
         "metadata": "{}",
         "name": "category",
         "type": "\"string\""
        },
        {
         "metadata": "{}",
         "name": "product",
         "type": "\"string\""
        },
        {
         "metadata": "{}",
         "name": "spendby",
         "type": "\"string\""
        }
       ],
       "type": "table"
      }
     },
     "output_type": "display_data"
    }
   ],
   "source": [
    "spark.sql(\"SELECT * FROM df\").display()"
   ]
  },
  {
   "cell_type": "code",
   "execution_count": 0,
   "metadata": {
    "application/vnd.databricks.v1+cell": {
     "cellMetadata": {
      "byteLimit": 2048000,
      "rowLimit": 10000
     },
     "inputWidgets": {},
     "nuid": "ef18c48b-807c-487b-bc59-9286639d8fb5",
     "showTitle": false,
     "tableResultSettingsMap": {},
     "title": ""
    }
   },
   "outputs": [
    {
     "output_type": "display_data",
     "data": {
      "text/html": [
       "<style scoped>\n",
       "  .table-result-container {\n",
       "    max-height: 300px;\n",
       "    overflow: auto;\n",
       "  }\n",
       "  table, th, td {\n",
       "    border: 1px solid black;\n",
       "    border-collapse: collapse;\n",
       "  }\n",
       "  th, td {\n",
       "    padding: 5px;\n",
       "  }\n",
       "  th {\n",
       "    text-align: left;\n",
       "  }\n",
       "</style><div class='table-result-container'><table class='table-result'><thead style='background-color: white'><tr><th>id</th><th>tdate</th></tr></thead><tbody><tr><td>0</td><td>06-26-2011</td></tr><tr><td>1</td><td>05-26-2011</td></tr><tr><td>2</td><td>06-01-2011</td></tr><tr><td>3</td><td>06-05-2011</td></tr><tr><td>4</td><td>12-17-2011</td></tr><tr><td>5</td><td>02-14-2011</td></tr><tr><td>6</td><td>06-05-2011</td></tr><tr><td>7</td><td>12-17-2011</td></tr><tr><td>8</td><td>02-14-2011</td></tr></tbody></table></div>"
      ]
     },
     "metadata": {
      "application/vnd.databricks.v1+output": {
       "addedWidgets": {},
       "aggData": [],
       "aggError": "",
       "aggOverflow": false,
       "aggSchema": [],
       "aggSeriesLimitReached": false,
       "aggType": "",
       "arguments": {},
       "columnCustomDisplayInfos": {},
       "data": [
        [
         0,
         "06-26-2011"
        ],
        [
         1,
         "05-26-2011"
        ],
        [
         2,
         "06-01-2011"
        ],
        [
         3,
         "06-05-2011"
        ],
        [
         4,
         "12-17-2011"
        ],
        [
         5,
         "02-14-2011"
        ],
        [
         6,
         "06-05-2011"
        ],
        [
         7,
         "12-17-2011"
        ],
        [
         8,
         "02-14-2011"
        ]
       ],
       "datasetInfos": [],
       "dbfsResultPath": null,
       "isJsonSchema": true,
       "metadata": {},
       "overflow": false,
       "plotOptions": {
        "customPlotOptions": {},
        "displayType": "table",
        "pivotAggregation": null,
        "pivotColumns": null,
        "xColumns": null,
        "yColumns": null
       },
       "removedWidgets": [],
       "schema": [
        {
         "metadata": "{}",
         "name": "id",
         "type": "\"long\""
        },
        {
         "metadata": "{}",
         "name": "tdate",
         "type": "\"string\""
        }
       ],
       "type": "table"
      }
     },
     "output_type": "display_data"
    }
   ],
   "source": [
    "spark.sql('SELECT id, tdate from df').display()"
   ]
  },
  {
   "cell_type": "code",
   "execution_count": 0,
   "metadata": {
    "application/vnd.databricks.v1+cell": {
     "cellMetadata": {
      "byteLimit": 2048000,
      "rowLimit": 10000
     },
     "inputWidgets": {},
     "nuid": "ccd8c258-03e3-4198-8c4f-08008ecc7b50",
     "showTitle": false,
     "tableResultSettingsMap": {},
     "title": ""
    }
   },
   "outputs": [
    {
     "output_type": "display_data",
     "data": {
      "text/html": [
       "<style scoped>\n",
       "  .table-result-container {\n",
       "    max-height: 300px;\n",
       "    overflow: auto;\n",
       "  }\n",
       "  table, th, td {\n",
       "    border: 1px solid black;\n",
       "    border-collapse: collapse;\n",
       "  }\n",
       "  th, td {\n",
       "    padding: 5px;\n",
       "  }\n",
       "  th {\n",
       "    text-align: left;\n",
       "  }\n",
       "</style><div class='table-result-container'><table class='table-result'><thead style='background-color: white'><tr><th>id</th><th>tdate</th><th>amount</th><th>category</th><th>product</th><th>spendby</th></tr></thead><tbody><tr><td>0</td><td>06-26-2011</td><td>300.4</td><td>Exercise</td><td>GymnasticsPro</td><td>cash</td></tr><tr><td>2</td><td>06-01-2011</td><td>300.4</td><td>Exercise</td><td>Gymnastics Pro</td><td>cash</td></tr><tr><td>6</td><td>06-05-2011</td><td>100.0</td><td>Exercise</td><td>Rings</td><td>credit</td></tr></tbody></table></div>"
      ]
     },
     "metadata": {
      "application/vnd.databricks.v1+output": {
       "addedWidgets": {},
       "aggData": [],
       "aggError": "",
       "aggOverflow": false,
       "aggSchema": [],
       "aggSeriesLimitReached": false,
       "aggType": "",
       "arguments": {},
       "columnCustomDisplayInfos": {},
       "data": [
        [
         0,
         "06-26-2011",
         300.4,
         "Exercise",
         "GymnasticsPro",
         "cash"
        ],
        [
         2,
         "06-01-2011",
         300.4,
         "Exercise",
         "Gymnastics Pro",
         "cash"
        ],
        [
         6,
         "06-05-2011",
         100.0,
         "Exercise",
         "Rings",
         "credit"
        ]
       ],
       "datasetInfos": [],
       "dbfsResultPath": null,
       "isJsonSchema": true,
       "metadata": {},
       "overflow": false,
       "plotOptions": {
        "customPlotOptions": {},
        "displayType": "table",
        "pivotAggregation": null,
        "pivotColumns": null,
        "xColumns": null,
        "yColumns": null
       },
       "removedWidgets": [],
       "schema": [
        {
         "metadata": "{}",
         "name": "id",
         "type": "\"long\""
        },
        {
         "metadata": "{}",
         "name": "tdate",
         "type": "\"string\""
        },
        {
         "metadata": "{}",
         "name": "amount",
         "type": "\"double\""
        },
        {
         "metadata": "{}",
         "name": "category",
         "type": "\"string\""
        },
        {
         "metadata": "{}",
         "name": "product",
         "type": "\"string\""
        },
        {
         "metadata": "{}",
         "name": "spendby",
         "type": "\"string\""
        }
       ],
       "type": "table"
      }
     },
     "output_type": "display_data"
    }
   ],
   "source": [
    "spark.sql(\"SELECT * FROM df WHERE category='Exercise'\").display()"
   ]
  },
  {
   "cell_type": "code",
   "execution_count": 0,
   "metadata": {
    "application/vnd.databricks.v1+cell": {
     "cellMetadata": {
      "byteLimit": 2048000,
      "rowLimit": 10000
     },
     "inputWidgets": {},
     "nuid": "8c26a856-4b9b-4f5a-881f-72d9ecbded80",
     "showTitle": false,
     "tableResultSettingsMap": {},
     "title": ""
    }
   },
   "outputs": [
    {
     "output_type": "display_data",
     "data": {
      "text/html": [
       "<style scoped>\n",
       "  .table-result-container {\n",
       "    max-height: 300px;\n",
       "    overflow: auto;\n",
       "  }\n",
       "  table, th, td {\n",
       "    border: 1px solid black;\n",
       "    border-collapse: collapse;\n",
       "  }\n",
       "  th, td {\n",
       "    padding: 5px;\n",
       "  }\n",
       "  th {\n",
       "    text-align: left;\n",
       "  }\n",
       "</style><div class='table-result-container'><table class='table-result'><thead style='background-color: white'><tr><th>id</th><th>tdate</th><th>category</th><th>spendby</th></tr></thead><tbody><tr><td>0</td><td>06-26-2011</td><td>Exercise</td><td>cash</td></tr><tr><td>2</td><td>06-01-2011</td><td>Exercise</td><td>cash</td></tr></tbody></table></div>"
      ]
     },
     "metadata": {
      "application/vnd.databricks.v1+output": {
       "addedWidgets": {},
       "aggData": [],
       "aggError": "",
       "aggOverflow": false,
       "aggSchema": [],
       "aggSeriesLimitReached": false,
       "aggType": "",
       "arguments": {},
       "columnCustomDisplayInfos": {},
       "data": [
        [
         0,
         "06-26-2011",
         "Exercise",
         "cash"
        ],
        [
         2,
         "06-01-2011",
         "Exercise",
         "cash"
        ]
       ],
       "datasetInfos": [],
       "dbfsResultPath": null,
       "isJsonSchema": true,
       "metadata": {},
       "overflow": false,
       "plotOptions": {
        "customPlotOptions": {},
        "displayType": "table",
        "pivotAggregation": null,
        "pivotColumns": null,
        "xColumns": null,
        "yColumns": null
       },
       "removedWidgets": [],
       "schema": [
        {
         "metadata": "{}",
         "name": "id",
         "type": "\"long\""
        },
        {
         "metadata": "{}",
         "name": "tdate",
         "type": "\"string\""
        },
        {
         "metadata": "{}",
         "name": "category",
         "type": "\"string\""
        },
        {
         "metadata": "{}",
         "name": "spendby",
         "type": "\"string\""
        }
       ],
       "type": "table"
      }
     },
     "output_type": "display_data"
    }
   ],
   "source": [
    "spark.sql(\"SELECT id, tdate, category, spendby FROM df WHERE category='Exercise' and spendby='cash'\").display()"
   ]
  },
  {
   "cell_type": "code",
   "execution_count": 0,
   "metadata": {
    "application/vnd.databricks.v1+cell": {
     "cellMetadata": {
      "byteLimit": 2048000,
      "rowLimit": 10000
     },
     "inputWidgets": {},
     "nuid": "6d040fd8-37b9-4e75-b0ef-cd295c899df8",
     "showTitle": false,
     "tableResultSettingsMap": {},
     "title": ""
    }
   },
   "outputs": [
    {
     "output_type": "display_data",
     "data": {
      "text/html": [
       "<style scoped>\n",
       "  .table-result-container {\n",
       "    max-height: 300px;\n",
       "    overflow: auto;\n",
       "  }\n",
       "  table, th, td {\n",
       "    border: 1px solid black;\n",
       "    border-collapse: collapse;\n",
       "  }\n",
       "  th, td {\n",
       "    padding: 5px;\n",
       "  }\n",
       "  th {\n",
       "    text-align: left;\n",
       "  }\n",
       "</style><div class='table-result-container'><table class='table-result'><thead style='background-color: white'><tr><th>id</th><th>tdate</th><th>amount</th><th>category</th><th>product</th><th>spendby</th></tr></thead><tbody><tr><td>0</td><td>06-26-2011</td><td>300.4</td><td>Exercise</td><td>GymnasticsPro</td><td>cash</td></tr><tr><td>2</td><td>06-01-2011</td><td>300.4</td><td>Exercise</td><td>Gymnastics Pro</td><td>cash</td></tr><tr><td>3</td><td>06-05-2011</td><td>100.0</td><td>Gymnastics</td><td>Rings</td><td>credit</td></tr><tr><td>5</td><td>02-14-2011</td><td>200.0</td><td>Gymnastics</td><td>null</td><td>cash</td></tr><tr><td>6</td><td>06-05-2011</td><td>100.0</td><td>Exercise</td><td>Rings</td><td>credit</td></tr><tr><td>8</td><td>02-14-2011</td><td>200.0</td><td>Gymnastics</td><td>null</td><td>cash</td></tr></tbody></table></div>"
      ]
     },
     "metadata": {
      "application/vnd.databricks.v1+output": {
       "addedWidgets": {},
       "aggData": [],
       "aggError": "",
       "aggOverflow": false,
       "aggSchema": [],
       "aggSeriesLimitReached": false,
       "aggType": "",
       "arguments": {},
       "columnCustomDisplayInfos": {},
       "data": [
        [
         0,
         "06-26-2011",
         300.4,
         "Exercise",
         "GymnasticsPro",
         "cash"
        ],
        [
         2,
         "06-01-2011",
         300.4,
         "Exercise",
         "Gymnastics Pro",
         "cash"
        ],
        [
         3,
         "06-05-2011",
         100.0,
         "Gymnastics",
         "Rings",
         "credit"
        ],
        [
         5,
         "02-14-2011",
         200.0,
         "Gymnastics",
         null,
         "cash"
        ],
        [
         6,
         "06-05-2011",
         100.0,
         "Exercise",
         "Rings",
         "credit"
        ],
        [
         8,
         "02-14-2011",
         200.0,
         "Gymnastics",
         null,
         "cash"
        ]
       ],
       "datasetInfos": [],
       "dbfsResultPath": null,
       "isJsonSchema": true,
       "metadata": {},
       "overflow": false,
       "plotOptions": {
        "customPlotOptions": {},
        "displayType": "table",
        "pivotAggregation": null,
        "pivotColumns": null,
        "xColumns": null,
        "yColumns": null
       },
       "removedWidgets": [],
       "schema": [
        {
         "metadata": "{}",
         "name": "id",
         "type": "\"long\""
        },
        {
         "metadata": "{}",
         "name": "tdate",
         "type": "\"string\""
        },
        {
         "metadata": "{}",
         "name": "amount",
         "type": "\"double\""
        },
        {
         "metadata": "{}",
         "name": "category",
         "type": "\"string\""
        },
        {
         "metadata": "{}",
         "name": "product",
         "type": "\"string\""
        },
        {
         "metadata": "{}",
         "name": "spendby",
         "type": "\"string\""
        }
       ],
       "type": "table"
      }
     },
     "output_type": "display_data"
    }
   ],
   "source": [
    "spark.sql(\"SELECT * FROM df WHERE category IN ('Exercise', 'Gymnastics')\").display()"
   ]
  },
  {
   "cell_type": "code",
   "execution_count": 0,
   "metadata": {
    "application/vnd.databricks.v1+cell": {
     "cellMetadata": {
      "byteLimit": 2048000,
      "rowLimit": 10000
     },
     "inputWidgets": {},
     "nuid": "8ee5e84e-c4b7-43b2-a592-e49cb441ab73",
     "showTitle": false,
     "tableResultSettingsMap": {},
     "title": ""
    }
   },
   "outputs": [
    {
     "output_type": "display_data",
     "data": {
      "text/html": [
       "<style scoped>\n",
       "  .table-result-container {\n",
       "    max-height: 300px;\n",
       "    overflow: auto;\n",
       "  }\n",
       "  table, th, td {\n",
       "    border: 1px solid black;\n",
       "    border-collapse: collapse;\n",
       "  }\n",
       "  th, td {\n",
       "    padding: 5px;\n",
       "  }\n",
       "  th {\n",
       "    text-align: left;\n",
       "  }\n",
       "</style><div class='table-result-container'><table class='table-result'><thead style='background-color: white'><tr><th>id</th><th>tdate</th><th>amount</th><th>category</th><th>product</th><th>spendby</th></tr></thead><tbody><tr><td>0</td><td>06-26-2011</td><td>300.4</td><td>Exercise</td><td>GymnasticsPro</td><td>cash</td></tr><tr><td>2</td><td>06-01-2011</td><td>300.4</td><td>Exercise</td><td>Gymnastics Pro</td><td>cash</td></tr></tbody></table></div>"
      ]
     },
     "metadata": {
      "application/vnd.databricks.v1+output": {
       "addedWidgets": {},
       "aggData": [],
       "aggError": "",
       "aggOverflow": false,
       "aggSchema": [],
       "aggSeriesLimitReached": false,
       "aggType": "",
       "arguments": {},
       "columnCustomDisplayInfos": {},
       "data": [
        [
         0,
         "06-26-2011",
         300.4,
         "Exercise",
         "GymnasticsPro",
         "cash"
        ],
        [
         2,
         "06-01-2011",
         300.4,
         "Exercise",
         "Gymnastics Pro",
         "cash"
        ]
       ],
       "datasetInfos": [],
       "dbfsResultPath": null,
       "isJsonSchema": true,
       "metadata": {},
       "overflow": false,
       "plotOptions": {
        "customPlotOptions": {},
        "displayType": "table",
        "pivotAggregation": null,
        "pivotColumns": null,
        "xColumns": null,
        "yColumns": null
       },
       "removedWidgets": [],
       "schema": [
        {
         "metadata": "{}",
         "name": "id",
         "type": "\"long\""
        },
        {
         "metadata": "{}",
         "name": "tdate",
         "type": "\"string\""
        },
        {
         "metadata": "{}",
         "name": "amount",
         "type": "\"double\""
        },
        {
         "metadata": "{}",
         "name": "category",
         "type": "\"string\""
        },
        {
         "metadata": "{}",
         "name": "product",
         "type": "\"string\""
        },
        {
         "metadata": "{}",
         "name": "spendby",
         "type": "\"string\""
        }
       ],
       "type": "table"
      }
     },
     "output_type": "display_data"
    }
   ],
   "source": [
    "spark.sql(\"SELECT * FROM df WHERE product like '%Gymnastics%'\").display()"
   ]
  },
  {
   "cell_type": "code",
   "execution_count": 0,
   "metadata": {
    "application/vnd.databricks.v1+cell": {
     "cellMetadata": {
      "byteLimit": 2048000,
      "rowLimit": 10000
     },
     "inputWidgets": {},
     "nuid": "1e0be660-0756-4feb-ad8b-c3a9bc6d422b",
     "showTitle": false,
     "tableResultSettingsMap": {},
     "title": ""
    }
   },
   "outputs": [
    {
     "output_type": "display_data",
     "data": {
      "text/html": [
       "<style scoped>\n",
       "  .table-result-container {\n",
       "    max-height: 300px;\n",
       "    overflow: auto;\n",
       "  }\n",
       "  table, th, td {\n",
       "    border: 1px solid black;\n",
       "    border-collapse: collapse;\n",
       "  }\n",
       "  th, td {\n",
       "    padding: 5px;\n",
       "  }\n",
       "  th {\n",
       "    text-align: left;\n",
       "  }\n",
       "</style><div class='table-result-container'><table class='table-result'><thead style='background-color: white'><tr><th>id</th><th>tdate</th><th>amount</th><th>category</th><th>product</th><th>spendby</th></tr></thead><tbody><tr><td>1</td><td>05-26-2011</td><td>200.0</td><td>Exercise Band</td><td>Weightlifting</td><td>credit</td></tr><tr><td>3</td><td>06-05-2011</td><td>100.0</td><td>Gymnastics</td><td>Rings</td><td>credit</td></tr><tr><td>4</td><td>12-17-2011</td><td>300.0</td><td>Team Sports</td><td>Field</td><td>cash</td></tr><tr><td>5</td><td>02-14-2011</td><td>200.0</td><td>Gymnastics</td><td>null</td><td>cash</td></tr><tr><td>7</td><td>12-17-2011</td><td>300.0</td><td>Team Sports</td><td>Field</td><td>cash</td></tr><tr><td>8</td><td>02-14-2011</td><td>200.0</td><td>Gymnastics</td><td>null</td><td>cash</td></tr></tbody></table></div>"
      ]
     },
     "metadata": {
      "application/vnd.databricks.v1+output": {
       "addedWidgets": {},
       "aggData": [],
       "aggError": "",
       "aggOverflow": false,
       "aggSchema": [],
       "aggSeriesLimitReached": false,
       "aggType": "",
       "arguments": {},
       "columnCustomDisplayInfos": {},
       "data": [
        [
         1,
         "05-26-2011",
         200.0,
         "Exercise Band",
         "Weightlifting",
         "credit"
        ],
        [
         3,
         "06-05-2011",
         100.0,
         "Gymnastics",
         "Rings",
         "credit"
        ],
        [
         4,
         "12-17-2011",
         300.0,
         "Team Sports",
         "Field",
         "cash"
        ],
        [
         5,
         "02-14-2011",
         200.0,
         "Gymnastics",
         null,
         "cash"
        ],
        [
         7,
         "12-17-2011",
         300.0,
         "Team Sports",
         "Field",
         "cash"
        ],
        [
         8,
         "02-14-2011",
         200.0,
         "Gymnastics",
         null,
         "cash"
        ]
       ],
       "datasetInfos": [],
       "dbfsResultPath": null,
       "isJsonSchema": true,
       "metadata": {},
       "overflow": false,
       "plotOptions": {
        "customPlotOptions": {},
        "displayType": "table",
        "pivotAggregation": null,
        "pivotColumns": null,
        "xColumns": null,
        "yColumns": null
       },
       "removedWidgets": [],
       "schema": [
        {
         "metadata": "{}",
         "name": "id",
         "type": "\"long\""
        },
        {
         "metadata": "{}",
         "name": "tdate",
         "type": "\"string\""
        },
        {
         "metadata": "{}",
         "name": "amount",
         "type": "\"double\""
        },
        {
         "metadata": "{}",
         "name": "category",
         "type": "\"string\""
        },
        {
         "metadata": "{}",
         "name": "product",
         "type": "\"string\""
        },
        {
         "metadata": "{}",
         "name": "spendby",
         "type": "\"string\""
        }
       ],
       "type": "table"
      }
     },
     "output_type": "display_data"
    }
   ],
   "source": [
    "spark.sql(\"SELECT * FROM df WHERE category != 'Exercise'\").display()"
   ]
  },
  {
   "cell_type": "code",
   "execution_count": 0,
   "metadata": {
    "application/vnd.databricks.v1+cell": {
     "cellMetadata": {
      "byteLimit": 2048000,
      "rowLimit": 10000
     },
     "inputWidgets": {},
     "nuid": "bff0ee3a-e915-4257-baec-2fe38019c1ba",
     "showTitle": false,
     "tableResultSettingsMap": {},
     "title": ""
    }
   },
   "outputs": [
    {
     "output_type": "display_data",
     "data": {
      "text/html": [
       "<style scoped>\n",
       "  .table-result-container {\n",
       "    max-height: 300px;\n",
       "    overflow: auto;\n",
       "  }\n",
       "  table, th, td {\n",
       "    border: 1px solid black;\n",
       "    border-collapse: collapse;\n",
       "  }\n",
       "  th, td {\n",
       "    padding: 5px;\n",
       "  }\n",
       "  th {\n",
       "    text-align: left;\n",
       "  }\n",
       "</style><div class='table-result-container'><table class='table-result'><thead style='background-color: white'><tr><th>id</th><th>tdate</th><th>amount</th><th>category</th><th>product</th><th>spendby</th></tr></thead><tbody><tr><td>1</td><td>05-26-2011</td><td>200.0</td><td>Exercise Band</td><td>Weightlifting</td><td>credit</td></tr><tr><td>4</td><td>12-17-2011</td><td>300.0</td><td>Team Sports</td><td>Field</td><td>cash</td></tr><tr><td>7</td><td>12-17-2011</td><td>300.0</td><td>Team Sports</td><td>Field</td><td>cash</td></tr></tbody></table></div>"
      ]
     },
     "metadata": {
      "application/vnd.databricks.v1+output": {
       "addedWidgets": {},
       "aggData": [],
       "aggError": "",
       "aggOverflow": false,
       "aggSchema": [],
       "aggSeriesLimitReached": false,
       "aggType": "",
       "arguments": {},
       "columnCustomDisplayInfos": {},
       "data": [
        [
         1,
         "05-26-2011",
         200.0,
         "Exercise Band",
         "Weightlifting",
         "credit"
        ],
        [
         4,
         "12-17-2011",
         300.0,
         "Team Sports",
         "Field",
         "cash"
        ],
        [
         7,
         "12-17-2011",
         300.0,
         "Team Sports",
         "Field",
         "cash"
        ]
       ],
       "datasetInfos": [],
       "dbfsResultPath": null,
       "isJsonSchema": true,
       "metadata": {},
       "overflow": false,
       "plotOptions": {
        "customPlotOptions": {},
        "displayType": "table",
        "pivotAggregation": null,
        "pivotColumns": null,
        "xColumns": null,
        "yColumns": null
       },
       "removedWidgets": [],
       "schema": [
        {
         "metadata": "{}",
         "name": "id",
         "type": "\"long\""
        },
        {
         "metadata": "{}",
         "name": "tdate",
         "type": "\"string\""
        },
        {
         "metadata": "{}",
         "name": "amount",
         "type": "\"double\""
        },
        {
         "metadata": "{}",
         "name": "category",
         "type": "\"string\""
        },
        {
         "metadata": "{}",
         "name": "product",
         "type": "\"string\""
        },
        {
         "metadata": "{}",
         "name": "spendby",
         "type": "\"string\""
        }
       ],
       "type": "table"
      }
     },
     "output_type": "display_data"
    }
   ],
   "source": [
    "spark.sql(\"SELECT * FROM df WHERE category not in ('Exercise', 'Gymnastics')\").display()"
   ]
  },
  {
   "cell_type": "code",
   "execution_count": 0,
   "metadata": {
    "application/vnd.databricks.v1+cell": {
     "cellMetadata": {
      "byteLimit": 2048000,
      "rowLimit": 10000
     },
     "inputWidgets": {},
     "nuid": "755c9279-5337-44f2-8df8-6ad7af93685b",
     "showTitle": false,
     "tableResultSettingsMap": {},
     "title": ""
    }
   },
   "outputs": [
    {
     "output_type": "display_data",
     "data": {
      "text/html": [
       "<style scoped>\n",
       "  .table-result-container {\n",
       "    max-height: 300px;\n",
       "    overflow: auto;\n",
       "  }\n",
       "  table, th, td {\n",
       "    border: 1px solid black;\n",
       "    border-collapse: collapse;\n",
       "  }\n",
       "  th, td {\n",
       "    padding: 5px;\n",
       "  }\n",
       "  th {\n",
       "    text-align: left;\n",
       "  }\n",
       "</style><div class='table-result-container'><table class='table-result'><thead style='background-color: white'><tr><th>id</th><th>tdate</th><th>amount</th><th>category</th><th>product</th><th>spendby</th></tr></thead><tbody><tr><td>5</td><td>02-14-2011</td><td>200.0</td><td>Gymnastics</td><td>null</td><td>cash</td></tr><tr><td>8</td><td>02-14-2011</td><td>200.0</td><td>Gymnastics</td><td>null</td><td>cash</td></tr></tbody></table></div>"
      ]
     },
     "metadata": {
      "application/vnd.databricks.v1+output": {
       "addedWidgets": {},
       "aggData": [],
       "aggError": "",
       "aggOverflow": false,
       "aggSchema": [],
       "aggSeriesLimitReached": false,
       "aggType": "",
       "arguments": {},
       "columnCustomDisplayInfos": {},
       "data": [
        [
         5,
         "02-14-2011",
         200.0,
         "Gymnastics",
         null,
         "cash"
        ],
        [
         8,
         "02-14-2011",
         200.0,
         "Gymnastics",
         null,
         "cash"
        ]
       ],
       "datasetInfos": [],
       "dbfsResultPath": null,
       "isJsonSchema": true,
       "metadata": {},
       "overflow": false,
       "plotOptions": {
        "customPlotOptions": {},
        "displayType": "table",
        "pivotAggregation": null,
        "pivotColumns": null,
        "xColumns": null,
        "yColumns": null
       },
       "removedWidgets": [],
       "schema": [
        {
         "metadata": "{}",
         "name": "id",
         "type": "\"long\""
        },
        {
         "metadata": "{}",
         "name": "tdate",
         "type": "\"string\""
        },
        {
         "metadata": "{}",
         "name": "amount",
         "type": "\"double\""
        },
        {
         "metadata": "{}",
         "name": "category",
         "type": "\"string\""
        },
        {
         "metadata": "{}",
         "name": "product",
         "type": "\"string\""
        },
        {
         "metadata": "{}",
         "name": "spendby",
         "type": "\"string\""
        }
       ],
       "type": "table"
      }
     },
     "output_type": "display_data"
    }
   ],
   "source": [
    "spark.sql(\"SELECT * FROM df WHERE product is null\").display()"
   ]
  },
  {
   "cell_type": "code",
   "execution_count": 0,
   "metadata": {
    "application/vnd.databricks.v1+cell": {
     "cellMetadata": {
      "byteLimit": 2048000,
      "rowLimit": 10000
     },
     "inputWidgets": {},
     "nuid": "752dddb4-5f0d-49e5-9a21-9253062d41ac",
     "showTitle": false,
     "tableResultSettingsMap": {},
     "title": ""
    }
   },
   "outputs": [
    {
     "output_type": "display_data",
     "data": {
      "text/html": [
       "<style scoped>\n",
       "  .table-result-container {\n",
       "    max-height: 300px;\n",
       "    overflow: auto;\n",
       "  }\n",
       "  table, th, td {\n",
       "    border: 1px solid black;\n",
       "    border-collapse: collapse;\n",
       "  }\n",
       "  th, td {\n",
       "    padding: 5px;\n",
       "  }\n",
       "  th {\n",
       "    text-align: left;\n",
       "  }\n",
       "</style><div class='table-result-container'><table class='table-result'><thead style='background-color: white'><tr><th>id</th><th>tdate</th><th>amount</th><th>category</th><th>product</th><th>spendby</th></tr></thead><tbody><tr><td>0</td><td>06-26-2011</td><td>300.4</td><td>Exercise</td><td>GymnasticsPro</td><td>cash</td></tr><tr><td>1</td><td>05-26-2011</td><td>200.0</td><td>Exercise Band</td><td>Weightlifting</td><td>credit</td></tr><tr><td>2</td><td>06-01-2011</td><td>300.4</td><td>Exercise</td><td>Gymnastics Pro</td><td>cash</td></tr><tr><td>3</td><td>06-05-2011</td><td>100.0</td><td>Gymnastics</td><td>Rings</td><td>credit</td></tr><tr><td>4</td><td>12-17-2011</td><td>300.0</td><td>Team Sports</td><td>Field</td><td>cash</td></tr><tr><td>6</td><td>06-05-2011</td><td>100.0</td><td>Exercise</td><td>Rings</td><td>credit</td></tr><tr><td>7</td><td>12-17-2011</td><td>300.0</td><td>Team Sports</td><td>Field</td><td>cash</td></tr></tbody></table></div>"
      ]
     },
     "metadata": {
      "application/vnd.databricks.v1+output": {
       "addedWidgets": {},
       "aggData": [],
       "aggError": "",
       "aggOverflow": false,
       "aggSchema": [],
       "aggSeriesLimitReached": false,
       "aggType": "",
       "arguments": {},
       "columnCustomDisplayInfos": {},
       "data": [
        [
         0,
         "06-26-2011",
         300.4,
         "Exercise",
         "GymnasticsPro",
         "cash"
        ],
        [
         1,
         "05-26-2011",
         200.0,
         "Exercise Band",
         "Weightlifting",
         "credit"
        ],
        [
         2,
         "06-01-2011",
         300.4,
         "Exercise",
         "Gymnastics Pro",
         "cash"
        ],
        [
         3,
         "06-05-2011",
         100.0,
         "Gymnastics",
         "Rings",
         "credit"
        ],
        [
         4,
         "12-17-2011",
         300.0,
         "Team Sports",
         "Field",
         "cash"
        ],
        [
         6,
         "06-05-2011",
         100.0,
         "Exercise",
         "Rings",
         "credit"
        ],
        [
         7,
         "12-17-2011",
         300.0,
         "Team Sports",
         "Field",
         "cash"
        ]
       ],
       "datasetInfos": [],
       "dbfsResultPath": null,
       "isJsonSchema": true,
       "metadata": {},
       "overflow": false,
       "plotOptions": {
        "customPlotOptions": {},
        "displayType": "table",
        "pivotAggregation": null,
        "pivotColumns": null,
        "xColumns": null,
        "yColumns": null
       },
       "removedWidgets": [],
       "schema": [
        {
         "metadata": "{}",
         "name": "id",
         "type": "\"long\""
        },
        {
         "metadata": "{}",
         "name": "tdate",
         "type": "\"string\""
        },
        {
         "metadata": "{}",
         "name": "amount",
         "type": "\"double\""
        },
        {
         "metadata": "{}",
         "name": "category",
         "type": "\"string\""
        },
        {
         "metadata": "{}",
         "name": "product",
         "type": "\"string\""
        },
        {
         "metadata": "{}",
         "name": "spendby",
         "type": "\"string\""
        }
       ],
       "type": "table"
      }
     },
     "output_type": "display_data"
    }
   ],
   "source": [
    "spark.sql(\"SELECT * FROM df WHERE product is not null\").display()"
   ]
  },
  {
   "cell_type": "code",
   "execution_count": 0,
   "metadata": {
    "application/vnd.databricks.v1+cell": {
     "cellMetadata": {
      "byteLimit": 2048000,
      "rowLimit": 10000
     },
     "inputWidgets": {},
     "nuid": "0c4678de-6893-4116-b09b-0f3a70cc47f0",
     "showTitle": false,
     "tableResultSettingsMap": {},
     "title": ""
    }
   },
   "outputs": [
    {
     "output_type": "display_data",
     "data": {
      "text/html": [
       "<style scoped>\n",
       "  .table-result-container {\n",
       "    max-height: 300px;\n",
       "    overflow: auto;\n",
       "  }\n",
       "  table, th, td {\n",
       "    border: 1px solid black;\n",
       "    border-collapse: collapse;\n",
       "  }\n",
       "  th, td {\n",
       "    padding: 5px;\n",
       "  }\n",
       "  th {\n",
       "    text-align: left;\n",
       "  }\n",
       "</style><div class='table-result-container'><table class='table-result'><thead style='background-color: white'><tr><th>highest_value</th></tr></thead><tbody><tr><td>8</td></tr></tbody></table></div>"
      ]
     },
     "metadata": {
      "application/vnd.databricks.v1+output": {
       "addedWidgets": {},
       "aggData": [],
       "aggError": "",
       "aggOverflow": false,
       "aggSchema": [],
       "aggSeriesLimitReached": false,
       "aggType": "",
       "arguments": {},
       "columnCustomDisplayInfos": {},
       "data": [
        [
         8
        ]
       ],
       "datasetInfos": [],
       "dbfsResultPath": null,
       "isJsonSchema": true,
       "metadata": {},
       "overflow": false,
       "plotOptions": {
        "customPlotOptions": {},
        "displayType": "table",
        "pivotAggregation": null,
        "pivotColumns": null,
        "xColumns": null,
        "yColumns": null
       },
       "removedWidgets": [],
       "schema": [
        {
         "metadata": "{}",
         "name": "highest_value",
         "type": "\"long\""
        }
       ],
       "type": "table"
      }
     },
     "output_type": "display_data"
    }
   ],
   "source": [
    "spark.sql(\"SELECT max(id) as highest_value FROM df\").display()"
   ]
  },
  {
   "cell_type": "code",
   "execution_count": 0,
   "metadata": {
    "application/vnd.databricks.v1+cell": {
     "cellMetadata": {
      "byteLimit": 2048000,
      "rowLimit": 10000
     },
     "inputWidgets": {},
     "nuid": "41bd4822-0a47-4ff7-a2e8-ad675ccd5db1",
     "showTitle": false,
     "tableResultSettingsMap": {},
     "title": ""
    }
   },
   "outputs": [
    {
     "output_type": "display_data",
     "data": {
      "text/html": [
       "<style scoped>\n",
       "  .table-result-container {\n",
       "    max-height: 300px;\n",
       "    overflow: auto;\n",
       "  }\n",
       "  table, th, td {\n",
       "    border: 1px solid black;\n",
       "    border-collapse: collapse;\n",
       "  }\n",
       "  th, td {\n",
       "    padding: 5px;\n",
       "  }\n",
       "  th {\n",
       "    text-align: left;\n",
       "  }\n",
       "</style><div class='table-result-container'><table class='table-result'><thead style='background-color: white'><tr><th>highest_value</th></tr></thead><tbody><tr><td>0</td></tr></tbody></table></div>"
      ]
     },
     "metadata": {
      "application/vnd.databricks.v1+output": {
       "addedWidgets": {},
       "aggData": [],
       "aggError": "",
       "aggOverflow": false,
       "aggSchema": [],
       "aggSeriesLimitReached": false,
       "aggType": "",
       "arguments": {},
       "columnCustomDisplayInfos": {},
       "data": [
        [
         0
        ]
       ],
       "datasetInfos": [],
       "dbfsResultPath": null,
       "isJsonSchema": true,
       "metadata": {},
       "overflow": false,
       "plotOptions": {
        "customPlotOptions": {},
        "displayType": "table",
        "pivotAggregation": null,
        "pivotColumns": null,
        "xColumns": null,
        "yColumns": null
       },
       "removedWidgets": [],
       "schema": [
        {
         "metadata": "{}",
         "name": "highest_value",
         "type": "\"long\""
        }
       ],
       "type": "table"
      }
     },
     "output_type": "display_data"
    }
   ],
   "source": [
    "spark.sql(\"SELECT min(id) as highest_value FROM df\").display()"
   ]
  },
  {
   "cell_type": "code",
   "execution_count": 0,
   "metadata": {
    "application/vnd.databricks.v1+cell": {
     "cellMetadata": {
      "byteLimit": 2048000,
      "rowLimit": 10000
     },
     "inputWidgets": {},
     "nuid": "3a14980b-345f-471a-be6b-509785570512",
     "showTitle": false,
     "tableResultSettingsMap": {},
     "title": ""
    }
   },
   "outputs": [
    {
     "output_type": "display_data",
     "data": {
      "text/html": [
       "<style scoped>\n",
       "  .table-result-container {\n",
       "    max-height: 300px;\n",
       "    overflow: auto;\n",
       "  }\n",
       "  table, th, td {\n",
       "    border: 1px solid black;\n",
       "    border-collapse: collapse;\n",
       "  }\n",
       "  th, td {\n",
       "    padding: 5px;\n",
       "  }\n",
       "  th {\n",
       "    text-align: left;\n",
       "  }\n",
       "</style><div class='table-result-container'><table class='table-result'><thead style='background-color: white'><tr><th>count(1)</th></tr></thead><tbody><tr><td>9</td></tr></tbody></table></div>"
      ]
     },
     "metadata": {
      "application/vnd.databricks.v1+output": {
       "addedWidgets": {},
       "aggData": [],
       "aggError": "",
       "aggOverflow": false,
       "aggSchema": [],
       "aggSeriesLimitReached": false,
       "aggType": "",
       "arguments": {},
       "columnCustomDisplayInfos": {},
       "data": [
        [
         9
        ]
       ],
       "datasetInfos": [],
       "dbfsResultPath": null,
       "isJsonSchema": true,
       "metadata": {},
       "overflow": false,
       "plotOptions": {
        "customPlotOptions": {},
        "displayType": "table",
        "pivotAggregation": null,
        "pivotColumns": null,
        "xColumns": null,
        "yColumns": null
       },
       "removedWidgets": [],
       "schema": [
        {
         "metadata": "{\"__autoGeneratedAlias\":\"true\"}",
         "name": "count(1)",
         "type": "\"long\""
        }
       ],
       "type": "table"
      }
     },
     "output_type": "display_data"
    }
   ],
   "source": [
    "spark.sql(\"SELECT count(1) FROM df\").display()"
   ]
  },
  {
   "cell_type": "code",
   "execution_count": 0,
   "metadata": {
    "application/vnd.databricks.v1+cell": {
     "cellMetadata": {
      "byteLimit": 2048000,
      "rowLimit": 10000
     },
     "inputWidgets": {},
     "nuid": "d229bd43-89d1-49cd-bbe6-f51ed857802c",
     "showTitle": false,
     "tableResultSettingsMap": {},
     "title": ""
    }
   },
   "outputs": [
    {
     "output_type": "display_data",
     "data": {
      "text/html": [
       "<style scoped>\n",
       "  .table-result-container {\n",
       "    max-height: 300px;\n",
       "    overflow: auto;\n",
       "  }\n",
       "  table, th, td {\n",
       "    border: 1px solid black;\n",
       "    border-collapse: collapse;\n",
       "  }\n",
       "  th, td {\n",
       "    padding: 5px;\n",
       "  }\n",
       "  th {\n",
       "    text-align: left;\n",
       "  }\n",
       "</style><div class='table-result-container'><table class='table-result'><thead style='background-color: white'><tr><th>id</th><th>tdate</th><th>amount</th><th>category</th><th>product</th><th>spendby</th><th>status</th></tr></thead><tbody><tr><td>0</td><td>06-26-2011</td><td>300.4</td><td>Exercise</td><td>GymnasticsPro</td><td>cash</td><td>1</td></tr><tr><td>1</td><td>05-26-2011</td><td>200.0</td><td>Exercise Band</td><td>Weightlifting</td><td>credit</td><td>0</td></tr><tr><td>2</td><td>06-01-2011</td><td>300.4</td><td>Exercise</td><td>Gymnastics Pro</td><td>cash</td><td>1</td></tr><tr><td>3</td><td>06-05-2011</td><td>100.0</td><td>Gymnastics</td><td>Rings</td><td>credit</td><td>0</td></tr><tr><td>4</td><td>12-17-2011</td><td>300.0</td><td>Team Sports</td><td>Field</td><td>cash</td><td>1</td></tr><tr><td>5</td><td>02-14-2011</td><td>200.0</td><td>Gymnastics</td><td>null</td><td>cash</td><td>1</td></tr><tr><td>6</td><td>06-05-2011</td><td>100.0</td><td>Exercise</td><td>Rings</td><td>credit</td><td>0</td></tr><tr><td>7</td><td>12-17-2011</td><td>300.0</td><td>Team Sports</td><td>Field</td><td>cash</td><td>1</td></tr><tr><td>8</td><td>02-14-2011</td><td>200.0</td><td>Gymnastics</td><td>null</td><td>cash</td><td>1</td></tr></tbody></table></div>"
      ]
     },
     "metadata": {
      "application/vnd.databricks.v1+output": {
       "addedWidgets": {},
       "aggData": [],
       "aggError": "",
       "aggOverflow": false,
       "aggSchema": [],
       "aggSeriesLimitReached": false,
       "aggType": "",
       "arguments": {},
       "columnCustomDisplayInfos": {},
       "data": [
        [
         0,
         "06-26-2011",
         300.4,
         "Exercise",
         "GymnasticsPro",
         "cash",
         1
        ],
        [
         1,
         "05-26-2011",
         200.0,
         "Exercise Band",
         "Weightlifting",
         "credit",
         0
        ],
        [
         2,
         "06-01-2011",
         300.4,
         "Exercise",
         "Gymnastics Pro",
         "cash",
         1
        ],
        [
         3,
         "06-05-2011",
         100.0,
         "Gymnastics",
         "Rings",
         "credit",
         0
        ],
        [
         4,
         "12-17-2011",
         300.0,
         "Team Sports",
         "Field",
         "cash",
         1
        ],
        [
         5,
         "02-14-2011",
         200.0,
         "Gymnastics",
         null,
         "cash",
         1
        ],
        [
         6,
         "06-05-2011",
         100.0,
         "Exercise",
         "Rings",
         "credit",
         0
        ],
        [
         7,
         "12-17-2011",
         300.0,
         "Team Sports",
         "Field",
         "cash",
         1
        ],
        [
         8,
         "02-14-2011",
         200.0,
         "Gymnastics",
         null,
         "cash",
         1
        ]
       ],
       "datasetInfos": [],
       "dbfsResultPath": null,
       "isJsonSchema": true,
       "metadata": {},
       "overflow": false,
       "plotOptions": {
        "customPlotOptions": {},
        "displayType": "table",
        "pivotAggregation": null,
        "pivotColumns": null,
        "xColumns": null,
        "yColumns": null
       },
       "removedWidgets": [],
       "schema": [
        {
         "metadata": "{}",
         "name": "id",
         "type": "\"long\""
        },
        {
         "metadata": "{}",
         "name": "tdate",
         "type": "\"string\""
        },
        {
         "metadata": "{}",
         "name": "amount",
         "type": "\"double\""
        },
        {
         "metadata": "{}",
         "name": "category",
         "type": "\"string\""
        },
        {
         "metadata": "{}",
         "name": "product",
         "type": "\"string\""
        },
        {
         "metadata": "{}",
         "name": "spendby",
         "type": "\"string\""
        },
        {
         "metadata": "{}",
         "name": "status",
         "type": "\"integer\""
        }
       ],
       "type": "table"
      }
     },
     "output_type": "display_data"
    }
   ],
   "source": [
    "spark.sql(\"SELECT *,CASE WHEN spendby = 'cash' THEN 1 ELSE 0 END as status FROM df\").display()"
   ]
  },
  {
   "cell_type": "code",
   "execution_count": 0,
   "metadata": {
    "application/vnd.databricks.v1+cell": {
     "cellMetadata": {
      "byteLimit": 2048000,
      "rowLimit": 10000
     },
     "inputWidgets": {},
     "nuid": "d552f934-6b38-46ab-8001-aa426eead8b1",
     "showTitle": false,
     "tableResultSettingsMap": {},
     "title": ""
    }
   },
   "outputs": [
    {
     "output_type": "display_data",
     "data": {
      "text/html": [
       "<style scoped>\n",
       "  .table-result-container {\n",
       "    max-height: 300px;\n",
       "    overflow: auto;\n",
       "  }\n",
       "  table, th, td {\n",
       "    border: 1px solid black;\n",
       "    border-collapse: collapse;\n",
       "  }\n",
       "  th, td {\n",
       "    padding: 5px;\n",
       "  }\n",
       "  th {\n",
       "    text-align: left;\n",
       "  }\n",
       "</style><div class='table-result-container'><table class='table-result'><thead style='background-color: white'><tr><th>id</th><th>tdate</th><th>amount</th><th>category</th><th>product</th><th>spendby</th><th>condata</th></tr></thead><tbody><tr><td>0</td><td>06-26-2011</td><td>300.4</td><td>Exercise</td><td>GymnasticsPro</td><td>cash</td><td>0-Exercise</td></tr><tr><td>1</td><td>05-26-2011</td><td>200.0</td><td>Exercise Band</td><td>Weightlifting</td><td>credit</td><td>1-Exercise Band</td></tr><tr><td>2</td><td>06-01-2011</td><td>300.4</td><td>Exercise</td><td>Gymnastics Pro</td><td>cash</td><td>2-Exercise</td></tr><tr><td>3</td><td>06-05-2011</td><td>100.0</td><td>Gymnastics</td><td>Rings</td><td>credit</td><td>3-Gymnastics</td></tr><tr><td>4</td><td>12-17-2011</td><td>300.0</td><td>Team Sports</td><td>Field</td><td>cash</td><td>4-Team Sports</td></tr><tr><td>5</td><td>02-14-2011</td><td>200.0</td><td>Gymnastics</td><td>null</td><td>cash</td><td>5-Gymnastics</td></tr><tr><td>6</td><td>06-05-2011</td><td>100.0</td><td>Exercise</td><td>Rings</td><td>credit</td><td>6-Exercise</td></tr><tr><td>7</td><td>12-17-2011</td><td>300.0</td><td>Team Sports</td><td>Field</td><td>cash</td><td>7-Team Sports</td></tr><tr><td>8</td><td>02-14-2011</td><td>200.0</td><td>Gymnastics</td><td>null</td><td>cash</td><td>8-Gymnastics</td></tr></tbody></table></div>"
      ]
     },
     "metadata": {
      "application/vnd.databricks.v1+output": {
       "addedWidgets": {},
       "aggData": [],
       "aggError": "",
       "aggOverflow": false,
       "aggSchema": [],
       "aggSeriesLimitReached": false,
       "aggType": "",
       "arguments": {},
       "columnCustomDisplayInfos": {},
       "data": [
        [
         0,
         "06-26-2011",
         300.4,
         "Exercise",
         "GymnasticsPro",
         "cash",
         "0-Exercise"
        ],
        [
         1,
         "05-26-2011",
         200.0,
         "Exercise Band",
         "Weightlifting",
         "credit",
         "1-Exercise Band"
        ],
        [
         2,
         "06-01-2011",
         300.4,
         "Exercise",
         "Gymnastics Pro",
         "cash",
         "2-Exercise"
        ],
        [
         3,
         "06-05-2011",
         100.0,
         "Gymnastics",
         "Rings",
         "credit",
         "3-Gymnastics"
        ],
        [
         4,
         "12-17-2011",
         300.0,
         "Team Sports",
         "Field",
         "cash",
         "4-Team Sports"
        ],
        [
         5,
         "02-14-2011",
         200.0,
         "Gymnastics",
         null,
         "cash",
         "5-Gymnastics"
        ],
        [
         6,
         "06-05-2011",
         100.0,
         "Exercise",
         "Rings",
         "credit",
         "6-Exercise"
        ],
        [
         7,
         "12-17-2011",
         300.0,
         "Team Sports",
         "Field",
         "cash",
         "7-Team Sports"
        ],
        [
         8,
         "02-14-2011",
         200.0,
         "Gymnastics",
         null,
         "cash",
         "8-Gymnastics"
        ]
       ],
       "datasetInfos": [],
       "dbfsResultPath": null,
       "isJsonSchema": true,
       "metadata": {},
       "overflow": false,
       "plotOptions": {
        "customPlotOptions": {},
        "displayType": "table",
        "pivotAggregation": null,
        "pivotColumns": null,
        "xColumns": null,
        "yColumns": null
       },
       "removedWidgets": [],
       "schema": [
        {
         "metadata": "{}",
         "name": "id",
         "type": "\"long\""
        },
        {
         "metadata": "{}",
         "name": "tdate",
         "type": "\"string\""
        },
        {
         "metadata": "{}",
         "name": "amount",
         "type": "\"double\""
        },
        {
         "metadata": "{}",
         "name": "category",
         "type": "\"string\""
        },
        {
         "metadata": "{}",
         "name": "product",
         "type": "\"string\""
        },
        {
         "metadata": "{}",
         "name": "spendby",
         "type": "\"string\""
        },
        {
         "metadata": "{}",
         "name": "condata",
         "type": "\"string\""
        }
       ],
       "type": "table"
      }
     },
     "output_type": "display_data"
    }
   ],
   "source": [
    "spark.sql(\"SELECT *, concat(id,'-',category) as condata FROM df\").display()"
   ]
  },
  {
   "cell_type": "code",
   "execution_count": 0,
   "metadata": {
    "application/vnd.databricks.v1+cell": {
     "cellMetadata": {
      "byteLimit": 2048000,
      "rowLimit": 10000
     },
     "inputWidgets": {},
     "nuid": "98d79bef-cc6c-4d80-8218-157b174c0a9f",
     "showTitle": false,
     "tableResultSettingsMap": {},
     "title": ""
    }
   },
   "outputs": [
    {
     "output_type": "display_data",
     "data": {
      "text/html": [
       "<style scoped>\n",
       "  .table-result-container {\n",
       "    max-height: 300px;\n",
       "    overflow: auto;\n",
       "  }\n",
       "  table, th, td {\n",
       "    border: 1px solid black;\n",
       "    border-collapse: collapse;\n",
       "  }\n",
       "  th, td {\n",
       "    padding: 5px;\n",
       "  }\n",
       "  th {\n",
       "    text-align: left;\n",
       "  }\n",
       "</style><div class='table-result-container'><table class='table-result'><thead style='background-color: white'><tr><th>id</th><th>category</th><th>product</th><th>condata</th></tr></thead><tbody><tr><td>0</td><td>Exercise</td><td>GymnasticsPro</td><td>0-Exercise-GymnasticsPro</td></tr><tr><td>1</td><td>Exercise Band</td><td>Weightlifting</td><td>1-Exercise Band-Weightlifting</td></tr><tr><td>2</td><td>Exercise</td><td>Gymnastics Pro</td><td>2-Exercise-Gymnastics Pro</td></tr><tr><td>3</td><td>Gymnastics</td><td>Rings</td><td>3-Gymnastics-Rings</td></tr><tr><td>4</td><td>Team Sports</td><td>Field</td><td>4-Team Sports-Field</td></tr><tr><td>5</td><td>Gymnastics</td><td>null</td><td>5-Gymnastics</td></tr><tr><td>6</td><td>Exercise</td><td>Rings</td><td>6-Exercise-Rings</td></tr><tr><td>7</td><td>Team Sports</td><td>Field</td><td>7-Team Sports-Field</td></tr><tr><td>8</td><td>Gymnastics</td><td>null</td><td>8-Gymnastics</td></tr></tbody></table></div>"
      ]
     },
     "metadata": {
      "application/vnd.databricks.v1+output": {
       "addedWidgets": {},
       "aggData": [],
       "aggError": "",
       "aggOverflow": false,
       "aggSchema": [],
       "aggSeriesLimitReached": false,
       "aggType": "",
       "arguments": {},
       "columnCustomDisplayInfos": {},
       "data": [
        [
         0,
         "Exercise",
         "GymnasticsPro",
         "0-Exercise-GymnasticsPro"
        ],
        [
         1,
         "Exercise Band",
         "Weightlifting",
         "1-Exercise Band-Weightlifting"
        ],
        [
         2,
         "Exercise",
         "Gymnastics Pro",
         "2-Exercise-Gymnastics Pro"
        ],
        [
         3,
         "Gymnastics",
         "Rings",
         "3-Gymnastics-Rings"
        ],
        [
         4,
         "Team Sports",
         "Field",
         "4-Team Sports-Field"
        ],
        [
         5,
         "Gymnastics",
         null,
         "5-Gymnastics"
        ],
        [
         6,
         "Exercise",
         "Rings",
         "6-Exercise-Rings"
        ],
        [
         7,
         "Team Sports",
         "Field",
         "7-Team Sports-Field"
        ],
        [
         8,
         "Gymnastics",
         null,
         "8-Gymnastics"
        ]
       ],
       "datasetInfos": [],
       "dbfsResultPath": null,
       "isJsonSchema": true,
       "metadata": {},
       "overflow": false,
       "plotOptions": {
        "customPlotOptions": {},
        "displayType": "table",
        "pivotAggregation": null,
        "pivotColumns": null,
        "xColumns": null,
        "yColumns": null
       },
       "removedWidgets": [],
       "schema": [
        {
         "metadata": "{}",
         "name": "id",
         "type": "\"long\""
        },
        {
         "metadata": "{}",
         "name": "category",
         "type": "\"string\""
        },
        {
         "metadata": "{}",
         "name": "product",
         "type": "\"string\""
        },
        {
         "metadata": "{}",
         "name": "condata",
         "type": "\"string\""
        }
       ],
       "type": "table"
      }
     },
     "output_type": "display_data"
    }
   ],
   "source": [
    "spark.sql(\"SELECT id, category, product, concat_ws('-', id, category, product) as condata FROM df\").display()"
   ]
  },
  {
   "cell_type": "code",
   "execution_count": 0,
   "metadata": {
    "application/vnd.databricks.v1+cell": {
     "cellMetadata": {
      "byteLimit": 2048000,
      "rowLimit": 10000
     },
     "inputWidgets": {},
     "nuid": "a75f7b81-de61-4344-8c18-739e084d419b",
     "showTitle": false,
     "tableResultSettingsMap": {},
     "title": ""
    }
   },
   "outputs": [
    {
     "output_type": "display_data",
     "data": {
      "text/html": [
       "<style scoped>\n",
       "  .table-result-container {\n",
       "    max-height: 300px;\n",
       "    overflow: auto;\n",
       "  }\n",
       "  table, th, td {\n",
       "    border: 1px solid black;\n",
       "    border-collapse: collapse;\n",
       "  }\n",
       "  th, td {\n",
       "    padding: 5px;\n",
       "  }\n",
       "  th {\n",
       "    text-align: left;\n",
       "  }\n",
       "</style><div class='table-result-container'><table class='table-result'><thead style='background-color: white'><tr><th>category</th><th>lower(category)</th></tr></thead><tbody><tr><td>Exercise</td><td>exercise</td></tr><tr><td>Exercise Band</td><td>exercise band</td></tr><tr><td>Exercise</td><td>exercise</td></tr><tr><td>Gymnastics</td><td>gymnastics</td></tr><tr><td>Team Sports</td><td>team sports</td></tr><tr><td>Gymnastics</td><td>gymnastics</td></tr><tr><td>Exercise</td><td>exercise</td></tr><tr><td>Team Sports</td><td>team sports</td></tr><tr><td>Gymnastics</td><td>gymnastics</td></tr></tbody></table></div>"
      ]
     },
     "metadata": {
      "application/vnd.databricks.v1+output": {
       "addedWidgets": {},
       "aggData": [],
       "aggError": "",
       "aggOverflow": false,
       "aggSchema": [],
       "aggSeriesLimitReached": false,
       "aggType": "",
       "arguments": {},
       "columnCustomDisplayInfos": {},
       "data": [
        [
         "Exercise",
         "exercise"
        ],
        [
         "Exercise Band",
         "exercise band"
        ],
        [
         "Exercise",
         "exercise"
        ],
        [
         "Gymnastics",
         "gymnastics"
        ],
        [
         "Team Sports",
         "team sports"
        ],
        [
         "Gymnastics",
         "gymnastics"
        ],
        [
         "Exercise",
         "exercise"
        ],
        [
         "Team Sports",
         "team sports"
        ],
        [
         "Gymnastics",
         "gymnastics"
        ]
       ],
       "datasetInfos": [],
       "dbfsResultPath": null,
       "isJsonSchema": true,
       "metadata": {},
       "overflow": false,
       "plotOptions": {
        "customPlotOptions": {},
        "displayType": "table",
        "pivotAggregation": null,
        "pivotColumns": null,
        "xColumns": null,
        "yColumns": null
       },
       "removedWidgets": [],
       "schema": [
        {
         "metadata": "{}",
         "name": "category",
         "type": "\"string\""
        },
        {
         "metadata": "{\"__autoGeneratedAlias\":\"true\"}",
         "name": "lower(category)",
         "type": "\"string\""
        }
       ],
       "type": "table"
      }
     },
     "output_type": "display_data"
    }
   ],
   "source": [
    "spark.sql(\"SELECT category, lower(category) FROM df\").display()"
   ]
  },
  {
   "cell_type": "code",
   "execution_count": 0,
   "metadata": {
    "application/vnd.databricks.v1+cell": {
     "cellMetadata": {
      "byteLimit": 2048000,
      "rowLimit": 10000
     },
     "inputWidgets": {},
     "nuid": "2d522f50-8722-400c-8590-f0df14619731",
     "showTitle": false,
     "tableResultSettingsMap": {},
     "title": ""
    }
   },
   "outputs": [
    {
     "output_type": "display_data",
     "data": {
      "text/html": [
       "<style scoped>\n",
       "  .table-result-container {\n",
       "    max-height: 300px;\n",
       "    overflow: auto;\n",
       "  }\n",
       "  table, th, td {\n",
       "    border: 1px solid black;\n",
       "    border-collapse: collapse;\n",
       "  }\n",
       "  th, td {\n",
       "    padding: 5px;\n",
       "  }\n",
       "  th {\n",
       "    text-align: left;\n",
       "  }\n",
       "</style><div class='table-result-container'><table class='table-result'><thead style='background-color: white'><tr><th>category</th><th>upper(category)</th></tr></thead><tbody><tr><td>Exercise</td><td>EXERCISE</td></tr><tr><td>Exercise Band</td><td>EXERCISE BAND</td></tr><tr><td>Exercise</td><td>EXERCISE</td></tr><tr><td>Gymnastics</td><td>GYMNASTICS</td></tr><tr><td>Team Sports</td><td>TEAM SPORTS</td></tr><tr><td>Gymnastics</td><td>GYMNASTICS</td></tr><tr><td>Exercise</td><td>EXERCISE</td></tr><tr><td>Team Sports</td><td>TEAM SPORTS</td></tr><tr><td>Gymnastics</td><td>GYMNASTICS</td></tr></tbody></table></div>"
      ]
     },
     "metadata": {
      "application/vnd.databricks.v1+output": {
       "addedWidgets": {},
       "aggData": [],
       "aggError": "",
       "aggOverflow": false,
       "aggSchema": [],
       "aggSeriesLimitReached": false,
       "aggType": "",
       "arguments": {},
       "columnCustomDisplayInfos": {},
       "data": [
        [
         "Exercise",
         "EXERCISE"
        ],
        [
         "Exercise Band",
         "EXERCISE BAND"
        ],
        [
         "Exercise",
         "EXERCISE"
        ],
        [
         "Gymnastics",
         "GYMNASTICS"
        ],
        [
         "Team Sports",
         "TEAM SPORTS"
        ],
        [
         "Gymnastics",
         "GYMNASTICS"
        ],
        [
         "Exercise",
         "EXERCISE"
        ],
        [
         "Team Sports",
         "TEAM SPORTS"
        ],
        [
         "Gymnastics",
         "GYMNASTICS"
        ]
       ],
       "datasetInfos": [],
       "dbfsResultPath": null,
       "isJsonSchema": true,
       "metadata": {},
       "overflow": false,
       "plotOptions": {
        "customPlotOptions": {},
        "displayType": "table",
        "pivotAggregation": null,
        "pivotColumns": null,
        "xColumns": null,
        "yColumns": null
       },
       "removedWidgets": [],
       "schema": [
        {
         "metadata": "{}",
         "name": "category",
         "type": "\"string\""
        },
        {
         "metadata": "{\"__autoGeneratedAlias\":\"true\"}",
         "name": "upper(category)",
         "type": "\"string\""
        }
       ],
       "type": "table"
      }
     },
     "output_type": "display_data"
    }
   ],
   "source": [
    "spark.sql(\"SELECT category, upper(category) FROM df\").display()"
   ]
  },
  {
   "cell_type": "code",
   "execution_count": 0,
   "metadata": {
    "application/vnd.databricks.v1+cell": {
     "cellMetadata": {
      "byteLimit": 2048000,
      "rowLimit": 10000
     },
     "inputWidgets": {},
     "nuid": "6ae97002-47ad-43ef-a2e3-48ee9dc2a868",
     "showTitle": false,
     "tableResultSettingsMap": {},
     "title": ""
    }
   },
   "outputs": [
    {
     "output_type": "display_data",
     "data": {
      "text/html": [
       "<style scoped>\n",
       "  .table-result-container {\n",
       "    max-height: 300px;\n",
       "    overflow: auto;\n",
       "  }\n",
       "  table, th, td {\n",
       "    border: 1px solid black;\n",
       "    border-collapse: collapse;\n",
       "  }\n",
       "  th, td {\n",
       "    padding: 5px;\n",
       "  }\n",
       "  th {\n",
       "    text-align: left;\n",
       "  }\n",
       "</style><div class='table-result-container'><table class='table-result'><thead style='background-color: white'><tr><th>amount</th><th>updated_value</th></tr></thead><tbody><tr><td>300.4</td><td>301</td></tr><tr><td>200.0</td><td>200</td></tr><tr><td>300.4</td><td>301</td></tr><tr><td>100.0</td><td>100</td></tr><tr><td>300.0</td><td>300</td></tr><tr><td>200.0</td><td>200</td></tr><tr><td>100.0</td><td>100</td></tr><tr><td>300.0</td><td>300</td></tr><tr><td>200.0</td><td>200</td></tr></tbody></table></div>"
      ]
     },
     "metadata": {
      "application/vnd.databricks.v1+output": {
       "addedWidgets": {},
       "aggData": [],
       "aggError": "",
       "aggOverflow": false,
       "aggSchema": [],
       "aggSeriesLimitReached": false,
       "aggType": "",
       "arguments": {},
       "columnCustomDisplayInfos": {},
       "data": [
        [
         300.4,
         301
        ],
        [
         200.0,
         200
        ],
        [
         300.4,
         301
        ],
        [
         100.0,
         100
        ],
        [
         300.0,
         300
        ],
        [
         200.0,
         200
        ],
        [
         100.0,
         100
        ],
        [
         300.0,
         300
        ],
        [
         200.0,
         200
        ]
       ],
       "datasetInfos": [],
       "dbfsResultPath": null,
       "isJsonSchema": true,
       "metadata": {},
       "overflow": false,
       "plotOptions": {
        "customPlotOptions": {},
        "displayType": "table",
        "pivotAggregation": null,
        "pivotColumns": null,
        "xColumns": null,
        "yColumns": null
       },
       "removedWidgets": [],
       "schema": [
        {
         "metadata": "{}",
         "name": "amount",
         "type": "\"double\""
        },
        {
         "metadata": "{}",
         "name": "updated_value",
         "type": "\"long\""
        }
       ],
       "type": "table"
      }
     },
     "output_type": "display_data"
    }
   ],
   "source": [
    "spark.sql(\"SELECT amount, ceil(amount) as updated_value FROM df\").display()"
   ]
  },
  {
   "cell_type": "code",
   "execution_count": 0,
   "metadata": {
    "application/vnd.databricks.v1+cell": {
     "cellMetadata": {
      "byteLimit": 2048000,
      "rowLimit": 10000
     },
     "inputWidgets": {},
     "nuid": "f914d036-ed72-4482-9d9c-b8095a1b8e90",
     "showTitle": false,
     "tableResultSettingsMap": {},
     "title": ""
    }
   },
   "outputs": [
    {
     "output_type": "display_data",
     "data": {
      "text/html": [
       "<style scoped>\n",
       "  .table-result-container {\n",
       "    max-height: 300px;\n",
       "    overflow: auto;\n",
       "  }\n",
       "  table, th, td {\n",
       "    border: 1px solid black;\n",
       "    border-collapse: collapse;\n",
       "  }\n",
       "  th, td {\n",
       "    padding: 5px;\n",
       "  }\n",
       "  th {\n",
       "    text-align: left;\n",
       "  }\n",
       "</style><div class='table-result-container'><table class='table-result'><thead style='background-color: white'><tr><th>amount</th><th>updated_value</th></tr></thead><tbody><tr><td>300.4</td><td>300</td></tr><tr><td>200.0</td><td>200</td></tr><tr><td>300.4</td><td>300</td></tr><tr><td>100.0</td><td>100</td></tr><tr><td>300.0</td><td>300</td></tr><tr><td>200.0</td><td>200</td></tr><tr><td>100.0</td><td>100</td></tr><tr><td>300.0</td><td>300</td></tr><tr><td>200.0</td><td>200</td></tr></tbody></table></div>"
      ]
     },
     "metadata": {
      "application/vnd.databricks.v1+output": {
       "addedWidgets": {},
       "aggData": [],
       "aggError": "",
       "aggOverflow": false,
       "aggSchema": [],
       "aggSeriesLimitReached": false,
       "aggType": "",
       "arguments": {},
       "columnCustomDisplayInfos": {},
       "data": [
        [
         300.4,
         300
        ],
        [
         200.0,
         200
        ],
        [
         300.4,
         300
        ],
        [
         100.0,
         100
        ],
        [
         300.0,
         300
        ],
        [
         200.0,
         200
        ],
        [
         100.0,
         100
        ],
        [
         300.0,
         300
        ],
        [
         200.0,
         200
        ]
       ],
       "datasetInfos": [],
       "dbfsResultPath": null,
       "isJsonSchema": true,
       "metadata": {},
       "overflow": false,
       "plotOptions": {
        "customPlotOptions": {},
        "displayType": "table",
        "pivotAggregation": null,
        "pivotColumns": null,
        "xColumns": null,
        "yColumns": null
       },
       "removedWidgets": [],
       "schema": [
        {
         "metadata": "{}",
         "name": "amount",
         "type": "\"double\""
        },
        {
         "metadata": "{}",
         "name": "updated_value",
         "type": "\"long\""
        }
       ],
       "type": "table"
      }
     },
     "output_type": "display_data"
    }
   ],
   "source": [
    "spark.sql(\"SELECT amount, floor(amount) as updated_value FROM df\").display()"
   ]
  },
  {
   "cell_type": "code",
   "execution_count": 0,
   "metadata": {
    "application/vnd.databricks.v1+cell": {
     "cellMetadata": {
      "byteLimit": 2048000,
      "rowLimit": 10000
     },
     "inputWidgets": {},
     "nuid": "53606c71-cb34-4fc5-957d-72556dbb8437",
     "showTitle": false,
     "tableResultSettingsMap": {},
     "title": ""
    }
   },
   "outputs": [
    {
     "output_type": "display_data",
     "data": {
      "text/html": [
       "<style scoped>\n",
       "  .table-result-container {\n",
       "    max-height: 300px;\n",
       "    overflow: auto;\n",
       "  }\n",
       "  table, th, td {\n",
       "    border: 1px solid black;\n",
       "    border-collapse: collapse;\n",
       "  }\n",
       "  th, td {\n",
       "    padding: 5px;\n",
       "  }\n",
       "  th {\n",
       "    text-align: left;\n",
       "  }\n",
       "</style><div class='table-result-container'><table class='table-result'><thead style='background-color: white'><tr><th>amount</th><th>updated_value</th></tr></thead><tbody><tr><td>300.4</td><td>300.0</td></tr><tr><td>200.0</td><td>200.0</td></tr><tr><td>300.4</td><td>300.0</td></tr><tr><td>100.0</td><td>100.0</td></tr><tr><td>300.0</td><td>300.0</td></tr><tr><td>200.0</td><td>200.0</td></tr><tr><td>100.0</td><td>100.0</td></tr><tr><td>300.0</td><td>300.0</td></tr><tr><td>200.0</td><td>200.0</td></tr></tbody></table></div>"
      ]
     },
     "metadata": {
      "application/vnd.databricks.v1+output": {
       "addedWidgets": {},
       "aggData": [],
       "aggError": "",
       "aggOverflow": false,
       "aggSchema": [],
       "aggSeriesLimitReached": false,
       "aggType": "",
       "arguments": {},
       "columnCustomDisplayInfos": {},
       "data": [
        [
         300.4,
         300.0
        ],
        [
         200.0,
         200.0
        ],
        [
         300.4,
         300.0
        ],
        [
         100.0,
         100.0
        ],
        [
         300.0,
         300.0
        ],
        [
         200.0,
         200.0
        ],
        [
         100.0,
         100.0
        ],
        [
         300.0,
         300.0
        ],
        [
         200.0,
         200.0
        ]
       ],
       "datasetInfos": [],
       "dbfsResultPath": null,
       "isJsonSchema": true,
       "metadata": {},
       "overflow": false,
       "plotOptions": {
        "customPlotOptions": {},
        "displayType": "table",
        "pivotAggregation": null,
        "pivotColumns": null,
        "xColumns": null,
        "yColumns": null
       },
       "removedWidgets": [],
       "schema": [
        {
         "metadata": "{}",
         "name": "amount",
         "type": "\"double\""
        },
        {
         "metadata": "{}",
         "name": "updated_value",
         "type": "\"double\""
        }
       ],
       "type": "table"
      }
     },
     "output_type": "display_data"
    }
   ],
   "source": [
    "spark.sql(\"SELECT amount, round(amount) as updated_value FROM df\").display()"
   ]
  },
  {
   "cell_type": "code",
   "execution_count": 0,
   "metadata": {
    "application/vnd.databricks.v1+cell": {
     "cellMetadata": {
      "byteLimit": 2048000,
      "rowLimit": 10000
     },
     "inputWidgets": {},
     "nuid": "b3920d89-fb0f-4a1b-b584-ec5c0f0c9018",
     "showTitle": false,
     "tableResultSettingsMap": {},
     "title": ""
    }
   },
   "outputs": [
    {
     "output_type": "display_data",
     "data": {
      "text/html": [
       "<style scoped>\n",
       "  .table-result-container {\n",
       "    max-height: 300px;\n",
       "    overflow: auto;\n",
       "  }\n",
       "  table, th, td {\n",
       "    border: 1px solid black;\n",
       "    border-collapse: collapse;\n",
       "  }\n",
       "  th, td {\n",
       "    padding: 5px;\n",
       "  }\n",
       "  th {\n",
       "    text-align: left;\n",
       "  }\n",
       "</style><div class='table-result-container'><table class='table-result'><thead style='background-color: white'><tr><th>product</th><th>coalesce(product, NA)</th></tr></thead><tbody><tr><td>GymnasticsPro</td><td>GymnasticsPro</td></tr><tr><td>Weightlifting</td><td>Weightlifting</td></tr><tr><td>Gymnastics Pro</td><td>Gymnastics Pro</td></tr><tr><td>Rings</td><td>Rings</td></tr><tr><td>Field</td><td>Field</td></tr><tr><td>null</td><td>NA</td></tr><tr><td>Rings</td><td>Rings</td></tr><tr><td>Field</td><td>Field</td></tr><tr><td>null</td><td>NA</td></tr></tbody></table></div>"
      ]
     },
     "metadata": {
      "application/vnd.databricks.v1+output": {
       "addedWidgets": {},
       "aggData": [],
       "aggError": "",
       "aggOverflow": false,
       "aggSchema": [],
       "aggSeriesLimitReached": false,
       "aggType": "",
       "arguments": {},
       "columnCustomDisplayInfos": {},
       "data": [
        [
         "GymnasticsPro",
         "GymnasticsPro"
        ],
        [
         "Weightlifting",
         "Weightlifting"
        ],
        [
         "Gymnastics Pro",
         "Gymnastics Pro"
        ],
        [
         "Rings",
         "Rings"
        ],
        [
         "Field",
         "Field"
        ],
        [
         null,
         "NA"
        ],
        [
         "Rings",
         "Rings"
        ],
        [
         "Field",
         "Field"
        ],
        [
         null,
         "NA"
        ]
       ],
       "datasetInfos": [],
       "dbfsResultPath": null,
       "isJsonSchema": true,
       "metadata": {},
       "overflow": false,
       "plotOptions": {
        "customPlotOptions": {},
        "displayType": "table",
        "pivotAggregation": null,
        "pivotColumns": null,
        "xColumns": null,
        "yColumns": null
       },
       "removedWidgets": [],
       "schema": [
        {
         "metadata": "{}",
         "name": "product",
         "type": "\"string\""
        },
        {
         "metadata": "{\"__autoGeneratedAlias\":\"true\"}",
         "name": "coalesce(product, NA)",
         "type": "\"string\""
        }
       ],
       "type": "table"
      }
     },
     "output_type": "display_data"
    }
   ],
   "source": [
    "spark.sql(\"SELECT product, coalesce(product,'NA') FROM df\").display()"
   ]
  },
  {
   "cell_type": "code",
   "execution_count": 0,
   "metadata": {
    "application/vnd.databricks.v1+cell": {
     "cellMetadata": {
      "byteLimit": 2048000,
      "rowLimit": 10000
     },
     "inputWidgets": {},
     "nuid": "7050bb2c-096c-4f65-989a-c3d5a458bbe1",
     "showTitle": false,
     "tableResultSettingsMap": {},
     "title": ""
    }
   },
   "outputs": [
    {
     "output_type": "display_data",
     "data": {
      "text/html": [
       "<style scoped>\n",
       "  .table-result-container {\n",
       "    max-height: 300px;\n",
       "    overflow: auto;\n",
       "  }\n",
       "  table, th, td {\n",
       "    border: 1px solid black;\n",
       "    border-collapse: collapse;\n",
       "  }\n",
       "  th, td {\n",
       "    padding: 5px;\n",
       "  }\n",
       "  th {\n",
       "    text-align: left;\n",
       "  }\n",
       "</style><div class='table-result-container'><table class='table-result'><thead style='background-color: white'><tr><th>trim(product)</th></tr></thead><tbody><tr><td>GymnasticsPro</td></tr><tr><td>Weightlifting</td></tr><tr><td>Gymnastics Pro</td></tr><tr><td>Rings</td></tr><tr><td>Field</td></tr><tr><td>null</td></tr><tr><td>Rings</td></tr><tr><td>Field</td></tr><tr><td>null</td></tr></tbody></table></div>"
      ]
     },
     "metadata": {
      "application/vnd.databricks.v1+output": {
       "addedWidgets": {},
       "aggData": [],
       "aggError": "",
       "aggOverflow": false,
       "aggSchema": [],
       "aggSeriesLimitReached": false,
       "aggType": "",
       "arguments": {},
       "columnCustomDisplayInfos": {},
       "data": [
        [
         "GymnasticsPro"
        ],
        [
         "Weightlifting"
        ],
        [
         "Gymnastics Pro"
        ],
        [
         "Rings"
        ],
        [
         "Field"
        ],
        [
         null
        ],
        [
         "Rings"
        ],
        [
         "Field"
        ],
        [
         null
        ]
       ],
       "datasetInfos": [],
       "dbfsResultPath": null,
       "isJsonSchema": true,
       "metadata": {},
       "overflow": false,
       "plotOptions": {
        "customPlotOptions": {},
        "displayType": "table",
        "pivotAggregation": null,
        "pivotColumns": null,
        "xColumns": null,
        "yColumns": null
       },
       "removedWidgets": [],
       "schema": [
        {
         "metadata": "{\"__autoGeneratedAlias\":\"true\"}",
         "name": "trim(product)",
         "type": "\"string\""
        }
       ],
       "type": "table"
      }
     },
     "output_type": "display_data"
    }
   ],
   "source": [
    "spark.sql(\"SELECT trim(product) FROM df\").display()"
   ]
  },
  {
   "cell_type": "code",
   "execution_count": 0,
   "metadata": {
    "application/vnd.databricks.v1+cell": {
     "cellMetadata": {
      "byteLimit": 2048000,
      "rowLimit": 10000
     },
     "inputWidgets": {},
     "nuid": "97b9e584-6634-4cb7-894a-5da2bb241dd0",
     "showTitle": false,
     "tableResultSettingsMap": {},
     "title": ""
    }
   },
   "outputs": [
    {
     "output_type": "display_data",
     "data": {
      "text/html": [
       "<style scoped>\n",
       "  .table-result-container {\n",
       "    max-height: 300px;\n",
       "    overflow: auto;\n",
       "  }\n",
       "  table, th, td {\n",
       "    border: 1px solid black;\n",
       "    border-collapse: collapse;\n",
       "  }\n",
       "  th, td {\n",
       "    padding: 5px;\n",
       "  }\n",
       "  th {\n",
       "    text-align: left;\n",
       "  }\n",
       "</style><div class='table-result-container'><table class='table-result'><thead style='background-color: white'><tr><th>category</th></tr></thead><tbody><tr><td>Exercise</td></tr><tr><td>Exercise Band</td></tr><tr><td>Gymnastics</td></tr><tr><td>Team Sports</td></tr></tbody></table></div>"
      ]
     },
     "metadata": {
      "application/vnd.databricks.v1+output": {
       "addedWidgets": {},
       "aggData": [],
       "aggError": "",
       "aggOverflow": false,
       "aggSchema": [],
       "aggSeriesLimitReached": false,
       "aggType": "",
       "arguments": {},
       "columnCustomDisplayInfos": {},
       "data": [
        [
         "Exercise"
        ],
        [
         "Exercise Band"
        ],
        [
         "Gymnastics"
        ],
        [
         "Team Sports"
        ]
       ],
       "datasetInfos": [],
       "dbfsResultPath": null,
       "isJsonSchema": true,
       "metadata": {},
       "overflow": false,
       "plotOptions": {
        "customPlotOptions": {},
        "displayType": "table",
        "pivotAggregation": null,
        "pivotColumns": null,
        "xColumns": null,
        "yColumns": null
       },
       "removedWidgets": [],
       "schema": [
        {
         "metadata": "{}",
         "name": "category",
         "type": "\"string\""
        }
       ],
       "type": "table"
      }
     },
     "output_type": "display_data"
    }
   ],
   "source": [
    "spark.sql(\"SELECT DISTINCT category FROM df\").display()"
   ]
  },
  {
   "cell_type": "code",
   "execution_count": 0,
   "metadata": {
    "application/vnd.databricks.v1+cell": {
     "cellMetadata": {
      "byteLimit": 2048000,
      "rowLimit": 10000
     },
     "inputWidgets": {},
     "nuid": "93273d31-f6c0-42af-98e6-a57fd8c0661c",
     "showTitle": false,
     "tableResultSettingsMap": {},
     "title": ""
    }
   },
   "outputs": [
    {
     "output_type": "display_data",
     "data": {
      "text/html": [
       "<style scoped>\n",
       "  .table-result-container {\n",
       "    max-height: 300px;\n",
       "    overflow: auto;\n",
       "  }\n",
       "  table, th, td {\n",
       "    border: 1px solid black;\n",
       "    border-collapse: collapse;\n",
       "  }\n",
       "  th, td {\n",
       "    padding: 5px;\n",
       "  }\n",
       "  th {\n",
       "    text-align: left;\n",
       "  }\n",
       "</style><div class='table-result-container'><table class='table-result'><thead style='background-color: white'><tr><th>category</th><th>spendby</th></tr></thead><tbody><tr><td>Exercise</td><td>cash</td></tr><tr><td>Exercise Band</td><td>credit</td></tr><tr><td>Gymnastics</td><td>credit</td></tr><tr><td>Team Sports</td><td>cash</td></tr><tr><td>Gymnastics</td><td>cash</td></tr><tr><td>Exercise</td><td>credit</td></tr></tbody></table></div>"
      ]
     },
     "metadata": {
      "application/vnd.databricks.v1+output": {
       "addedWidgets": {},
       "aggData": [],
       "aggError": "",
       "aggOverflow": false,
       "aggSchema": [],
       "aggSeriesLimitReached": false,
       "aggType": "",
       "arguments": {},
       "columnCustomDisplayInfos": {},
       "data": [
        [
         "Exercise",
         "cash"
        ],
        [
         "Exercise Band",
         "credit"
        ],
        [
         "Gymnastics",
         "credit"
        ],
        [
         "Team Sports",
         "cash"
        ],
        [
         "Gymnastics",
         "cash"
        ],
        [
         "Exercise",
         "credit"
        ]
       ],
       "datasetInfos": [],
       "dbfsResultPath": null,
       "isJsonSchema": true,
       "metadata": {},
       "overflow": false,
       "plotOptions": {
        "customPlotOptions": {},
        "displayType": "table",
        "pivotAggregation": null,
        "pivotColumns": null,
        "xColumns": null,
        "yColumns": null
       },
       "removedWidgets": [],
       "schema": [
        {
         "metadata": "{}",
         "name": "category",
         "type": "\"string\""
        },
        {
         "metadata": "{}",
         "name": "spendby",
         "type": "\"string\""
        }
       ],
       "type": "table"
      }
     },
     "output_type": "display_data"
    }
   ],
   "source": [
    "spark.sql(\"SELECT DISTINCT category, spendby FROM df\").display()"
   ]
  },
  {
   "cell_type": "code",
   "execution_count": 0,
   "metadata": {
    "application/vnd.databricks.v1+cell": {
     "cellMetadata": {
      "byteLimit": 2048000,
      "rowLimit": 10000
     },
     "inputWidgets": {},
     "nuid": "888af507-e241-4907-8440-2cc110fd9d4a",
     "showTitle": false,
     "tableResultSettingsMap": {},
     "title": ""
    }
   },
   "outputs": [
    {
     "output_type": "display_data",
     "data": {
      "text/html": [
       "<style scoped>\n",
       "  .table-result-container {\n",
       "    max-height: 300px;\n",
       "    overflow: auto;\n",
       "  }\n",
       "  table, th, td {\n",
       "    border: 1px solid black;\n",
       "    border-collapse: collapse;\n",
       "  }\n",
       "  th, td {\n",
       "    padding: 5px;\n",
       "  }\n",
       "  th {\n",
       "    text-align: left;\n",
       "  }\n",
       "</style><div class='table-result-container'><table class='table-result'><thead style='background-color: white'><tr><th>id</th><th>tdate</th><th>amount</th><th>category</th><th>product</th><th>spendby</th></tr></thead><tbody><tr><td>0</td><td>06-26-2011</td><td>300.4</td><td>Exercise</td><td>GymnasticsPro</td><td>cash</td></tr><tr><td>1</td><td>05-26-2011</td><td>200.0</td><td>Exercise Band</td><td>Weightlifting</td><td>credit</td></tr><tr><td>2</td><td>06-01-2011</td><td>300.4</td><td>Exercise</td><td>Gymnastics Pro</td><td>cash</td></tr><tr><td>3</td><td>06-05-2011</td><td>100.0</td><td>Gymnastics</td><td>Rings</td><td>credit</td></tr><tr><td>4</td><td>12-17-2011</td><td>300.0</td><td>Team Sports</td><td>Field</td><td>cash</td></tr><tr><td>5</td><td>02-14-2011</td><td>200.0</td><td>Gymnastics</td><td>null</td><td>cash</td></tr><tr><td>6</td><td>06-05-2011</td><td>100.0</td><td>Exercise</td><td>Rings</td><td>credit</td></tr><tr><td>7</td><td>12-17-2011</td><td>300.0</td><td>Team Sports</td><td>Field</td><td>cash</td></tr><tr><td>8</td><td>02-14-2011</td><td>200.0</td><td>Gymnastics</td><td>null</td><td>cash</td></tr></tbody></table></div>"
      ]
     },
     "metadata": {
      "application/vnd.databricks.v1+output": {
       "addedWidgets": {},
       "aggData": [],
       "aggError": "",
       "aggOverflow": false,
       "aggSchema": [],
       "aggSeriesLimitReached": false,
       "aggType": "",
       "arguments": {},
       "columnCustomDisplayInfos": {},
       "data": [
        [
         0,
         "06-26-2011",
         300.4,
         "Exercise",
         "GymnasticsPro",
         "cash"
        ],
        [
         1,
         "05-26-2011",
         200.0,
         "Exercise Band",
         "Weightlifting",
         "credit"
        ],
        [
         2,
         "06-01-2011",
         300.4,
         "Exercise",
         "Gymnastics Pro",
         "cash"
        ],
        [
         3,
         "06-05-2011",
         100.0,
         "Gymnastics",
         "Rings",
         "credit"
        ],
        [
         4,
         "12-17-2011",
         300.0,
         "Team Sports",
         "Field",
         "cash"
        ],
        [
         5,
         "02-14-2011",
         200.0,
         "Gymnastics",
         null,
         "cash"
        ],
        [
         6,
         "06-05-2011",
         100.0,
         "Exercise",
         "Rings",
         "credit"
        ],
        [
         7,
         "12-17-2011",
         300.0,
         "Team Sports",
         "Field",
         "cash"
        ],
        [
         8,
         "02-14-2011",
         200.0,
         "Gymnastics",
         null,
         "cash"
        ]
       ],
       "datasetInfos": [],
       "dbfsResultPath": null,
       "isJsonSchema": true,
       "metadata": {},
       "overflow": false,
       "plotOptions": {
        "customPlotOptions": {},
        "displayType": "table",
        "pivotAggregation": null,
        "pivotColumns": null,
        "xColumns": null,
        "yColumns": null
       },
       "removedWidgets": [],
       "schema": [
        {
         "metadata": "{}",
         "name": "id",
         "type": "\"long\""
        },
        {
         "metadata": "{}",
         "name": "tdate",
         "type": "\"string\""
        },
        {
         "metadata": "{}",
         "name": "amount",
         "type": "\"double\""
        },
        {
         "metadata": "{}",
         "name": "category",
         "type": "\"string\""
        },
        {
         "metadata": "{}",
         "name": "product",
         "type": "\"string\""
        },
        {
         "metadata": "{}",
         "name": "spendby",
         "type": "\"string\""
        }
       ],
       "type": "table"
      }
     },
     "output_type": "display_data"
    }
   ],
   "source": [
    "spark.sql(\"SELECT DISTINCT * FROM df\").display()"
   ]
  },
  {
   "cell_type": "code",
   "execution_count": 0,
   "metadata": {
    "application/vnd.databricks.v1+cell": {
     "cellMetadata": {
      "byteLimit": 2048000,
      "rowLimit": 10000
     },
     "inputWidgets": {},
     "nuid": "fe0a934a-cf45-4d7c-ad43-6d437e401427",
     "showTitle": false,
     "tableResultSettingsMap": {},
     "title": ""
    }
   },
   "outputs": [
    {
     "output_type": "display_data",
     "data": {
      "text/html": [
       "<style scoped>\n",
       "  .table-result-container {\n",
       "    max-height: 300px;\n",
       "    overflow: auto;\n",
       "  }\n",
       "  table, th, td {\n",
       "    border: 1px solid black;\n",
       "    border-collapse: collapse;\n",
       "  }\n",
       "  th, td {\n",
       "    padding: 5px;\n",
       "  }\n",
       "  th {\n",
       "    text-align: left;\n",
       "  }\n",
       "</style><div class='table-result-container'><table class='table-result'><thead style='background-color: white'><tr><th>id</th><th>tdate</th><th>amount</th><th>category</th><th>product</th><th>spendby</th><th>substring_value</th></tr></thead><tbody><tr><td>0</td><td>06-26-2011</td><td>300.4</td><td>Exercise</td><td>GymnasticsPro</td><td>cash</td><td>Gymnastics</td></tr><tr><td>1</td><td>05-26-2011</td><td>200.0</td><td>Exercise Band</td><td>Weightlifting</td><td>credit</td><td>Weightlift</td></tr><tr><td>2</td><td>06-01-2011</td><td>300.4</td><td>Exercise</td><td>Gymnastics Pro</td><td>cash</td><td>Gymnastics</td></tr><tr><td>3</td><td>06-05-2011</td><td>100.0</td><td>Gymnastics</td><td>Rings</td><td>credit</td><td>Rings</td></tr><tr><td>4</td><td>12-17-2011</td><td>300.0</td><td>Team Sports</td><td>Field</td><td>cash</td><td>Field</td></tr><tr><td>5</td><td>02-14-2011</td><td>200.0</td><td>Gymnastics</td><td>null</td><td>cash</td><td>null</td></tr><tr><td>6</td><td>06-05-2011</td><td>100.0</td><td>Exercise</td><td>Rings</td><td>credit</td><td>Rings</td></tr><tr><td>7</td><td>12-17-2011</td><td>300.0</td><td>Team Sports</td><td>Field</td><td>cash</td><td>Field</td></tr><tr><td>8</td><td>02-14-2011</td><td>200.0</td><td>Gymnastics</td><td>null</td><td>cash</td><td>null</td></tr></tbody></table></div>"
      ]
     },
     "metadata": {
      "application/vnd.databricks.v1+output": {
       "addedWidgets": {},
       "aggData": [],
       "aggError": "",
       "aggOverflow": false,
       "aggSchema": [],
       "aggSeriesLimitReached": false,
       "aggType": "",
       "arguments": {},
       "columnCustomDisplayInfos": {},
       "data": [
        [
         0,
         "06-26-2011",
         300.4,
         "Exercise",
         "GymnasticsPro",
         "cash",
         "Gymnastics"
        ],
        [
         1,
         "05-26-2011",
         200.0,
         "Exercise Band",
         "Weightlifting",
         "credit",
         "Weightlift"
        ],
        [
         2,
         "06-01-2011",
         300.4,
         "Exercise",
         "Gymnastics Pro",
         "cash",
         "Gymnastics"
        ],
        [
         3,
         "06-05-2011",
         100.0,
         "Gymnastics",
         "Rings",
         "credit",
         "Rings"
        ],
        [
         4,
         "12-17-2011",
         300.0,
         "Team Sports",
         "Field",
         "cash",
         "Field"
        ],
        [
         5,
         "02-14-2011",
         200.0,
         "Gymnastics",
         null,
         "cash",
         null
        ],
        [
         6,
         "06-05-2011",
         100.0,
         "Exercise",
         "Rings",
         "credit",
         "Rings"
        ],
        [
         7,
         "12-17-2011",
         300.0,
         "Team Sports",
         "Field",
         "cash",
         "Field"
        ],
        [
         8,
         "02-14-2011",
         200.0,
         "Gymnastics",
         null,
         "cash",
         null
        ]
       ],
       "datasetInfos": [],
       "dbfsResultPath": null,
       "isJsonSchema": true,
       "metadata": {},
       "overflow": false,
       "plotOptions": {
        "customPlotOptions": {},
        "displayType": "table",
        "pivotAggregation": null,
        "pivotColumns": null,
        "xColumns": null,
        "yColumns": null
       },
       "removedWidgets": [],
       "schema": [
        {
         "metadata": "{}",
         "name": "id",
         "type": "\"long\""
        },
        {
         "metadata": "{}",
         "name": "tdate",
         "type": "\"string\""
        },
        {
         "metadata": "{}",
         "name": "amount",
         "type": "\"double\""
        },
        {
         "metadata": "{}",
         "name": "category",
         "type": "\"string\""
        },
        {
         "metadata": "{}",
         "name": "product",
         "type": "\"string\""
        },
        {
         "metadata": "{}",
         "name": "spendby",
         "type": "\"string\""
        },
        {
         "metadata": "{}",
         "name": "substring_value",
         "type": "\"string\""
        }
       ],
       "type": "table"
      }
     },
     "output_type": "display_data"
    }
   ],
   "source": [
    "spark.sql(\"SELECT *,substring(product, 1, 10) as substring_value FROM df\").display()"
   ]
  },
  {
   "cell_type": "code",
   "execution_count": 0,
   "metadata": {
    "application/vnd.databricks.v1+cell": {
     "cellMetadata": {
      "byteLimit": 2048000,
      "rowLimit": 10000
     },
     "inputWidgets": {},
     "nuid": "3b35e1d6-edc3-431f-b8f2-1f1c7dd6be7e",
     "showTitle": false,
     "tableResultSettingsMap": {},
     "title": ""
    }
   },
   "outputs": [
    {
     "output_type": "display_data",
     "data": {
      "text/html": [
       "<style scoped>\n",
       "  .table-result-container {\n",
       "    max-height: 300px;\n",
       "    overflow: auto;\n",
       "  }\n",
       "  table, th, td {\n",
       "    border: 1px solid black;\n",
       "    border-collapse: collapse;\n",
       "  }\n",
       "  th, td {\n",
       "    padding: 5px;\n",
       "  }\n",
       "  th {\n",
       "    text-align: left;\n",
       "  }\n",
       "</style><div class='table-result-container'><table class='table-result'><thead style='background-color: white'><tr><th>id</th><th>tdate</th><th>amount</th><th>category</th><th>product</th><th>spendby</th><th>split_data</th></tr></thead><tbody><tr><td>0</td><td>06-26-2011</td><td>300.4</td><td>Exercise</td><td>GymnasticsPro</td><td>cash</td><td>GymnasticsPro</td></tr><tr><td>1</td><td>05-26-2011</td><td>200.0</td><td>Exercise Band</td><td>Weightlifting</td><td>credit</td><td>Weightlifting</td></tr><tr><td>2</td><td>06-01-2011</td><td>300.4</td><td>Exercise</td><td>Gymnastics Pro</td><td>cash</td><td>Gymnastics</td></tr><tr><td>3</td><td>06-05-2011</td><td>100.0</td><td>Gymnastics</td><td>Rings</td><td>credit</td><td>Rings</td></tr><tr><td>4</td><td>12-17-2011</td><td>300.0</td><td>Team Sports</td><td>Field</td><td>cash</td><td>Field</td></tr><tr><td>5</td><td>02-14-2011</td><td>200.0</td><td>Gymnastics</td><td>null</td><td>cash</td><td>null</td></tr><tr><td>6</td><td>06-05-2011</td><td>100.0</td><td>Exercise</td><td>Rings</td><td>credit</td><td>Rings</td></tr><tr><td>7</td><td>12-17-2011</td><td>300.0</td><td>Team Sports</td><td>Field</td><td>cash</td><td>Field</td></tr><tr><td>8</td><td>02-14-2011</td><td>200.0</td><td>Gymnastics</td><td>null</td><td>cash</td><td>null</td></tr></tbody></table></div>"
      ]
     },
     "metadata": {
      "application/vnd.databricks.v1+output": {
       "addedWidgets": {},
       "aggData": [],
       "aggError": "",
       "aggOverflow": false,
       "aggSchema": [],
       "aggSeriesLimitReached": false,
       "aggType": "",
       "arguments": {},
       "columnCustomDisplayInfos": {},
       "data": [
        [
         0,
         "06-26-2011",
         300.4,
         "Exercise",
         "GymnasticsPro",
         "cash",
         "GymnasticsPro"
        ],
        [
         1,
         "05-26-2011",
         200.0,
         "Exercise Band",
         "Weightlifting",
         "credit",
         "Weightlifting"
        ],
        [
         2,
         "06-01-2011",
         300.4,
         "Exercise",
         "Gymnastics Pro",
         "cash",
         "Gymnastics"
        ],
        [
         3,
         "06-05-2011",
         100.0,
         "Gymnastics",
         "Rings",
         "credit",
         "Rings"
        ],
        [
         4,
         "12-17-2011",
         300.0,
         "Team Sports",
         "Field",
         "cash",
         "Field"
        ],
        [
         5,
         "02-14-2011",
         200.0,
         "Gymnastics",
         null,
         "cash",
         null
        ],
        [
         6,
         "06-05-2011",
         100.0,
         "Exercise",
         "Rings",
         "credit",
         "Rings"
        ],
        [
         7,
         "12-17-2011",
         300.0,
         "Team Sports",
         "Field",
         "cash",
         "Field"
        ],
        [
         8,
         "02-14-2011",
         200.0,
         "Gymnastics",
         null,
         "cash",
         null
        ]
       ],
       "datasetInfos": [],
       "dbfsResultPath": null,
       "isJsonSchema": true,
       "metadata": {},
       "overflow": false,
       "plotOptions": {
        "customPlotOptions": {},
        "displayType": "table",
        "pivotAggregation": null,
        "pivotColumns": null,
        "xColumns": null,
        "yColumns": null
       },
       "removedWidgets": [],
       "schema": [
        {
         "metadata": "{}",
         "name": "id",
         "type": "\"long\""
        },
        {
         "metadata": "{}",
         "name": "tdate",
         "type": "\"string\""
        },
        {
         "metadata": "{}",
         "name": "amount",
         "type": "\"double\""
        },
        {
         "metadata": "{}",
         "name": "category",
         "type": "\"string\""
        },
        {
         "metadata": "{}",
         "name": "product",
         "type": "\"string\""
        },
        {
         "metadata": "{}",
         "name": "spendby",
         "type": "\"string\""
        },
        {
         "metadata": "{}",
         "name": "split_data",
         "type": "\"string\""
        }
       ],
       "type": "table"
      }
     },
     "output_type": "display_data"
    }
   ],
   "source": [
    "spark.sql(\"SELECT *, split(product, ' ')[0] as split_data FROM df\").display()"
   ]
  },
  {
   "cell_type": "code",
   "execution_count": 0,
   "metadata": {
    "application/vnd.databricks.v1+cell": {
     "cellMetadata": {
      "byteLimit": 2048000,
      "rowLimit": 10000
     },
     "inputWidgets": {},
     "nuid": "cd043812-1a51-45c9-9ec3-1a750f4dcd3d",
     "showTitle": false,
     "tableResultSettingsMap": {},
     "title": ""
    }
   },
   "outputs": [
    {
     "output_type": "display_data",
     "data": {
      "text/html": [
       "<style scoped>\n",
       "  .table-result-container {\n",
       "    max-height: 300px;\n",
       "    overflow: auto;\n",
       "  }\n",
       "  table, th, td {\n",
       "    border: 1px solid black;\n",
       "    border-collapse: collapse;\n",
       "  }\n",
       "  th, td {\n",
       "    padding: 5px;\n",
       "  }\n",
       "  th {\n",
       "    text-align: left;\n",
       "  }\n",
       "</style><div class='table-result-container'><table class='table-result'><thead style='background-color: white'><tr><th>id</th><th>tdate</th><th>amount</th><th>category</th><th>product</th><th>spendby</th></tr></thead><tbody><tr><td>0</td><td>06-26-2011</td><td>300.4</td><td>Exercise</td><td>GymnasticsPro</td><td>cash</td></tr><tr><td>1</td><td>05-26-2011</td><td>200.0</td><td>Exercise Band</td><td>Weightlifting</td><td>credit</td></tr><tr><td>2</td><td>06-01-2011</td><td>300.4</td><td>Exercise</td><td>Gymnastics Pro</td><td>cash</td></tr><tr><td>3</td><td>06-05-2011</td><td>100.0</td><td>Gymnastics</td><td>Rings</td><td>credit</td></tr><tr><td>4</td><td>12-17-2011</td><td>300.0</td><td>Team Sports</td><td>Field</td><td>cash</td></tr><tr><td>5</td><td>02-14-2011</td><td>200.0</td><td>Gymnastics</td><td>null</td><td>cash</td></tr><tr><td>6</td><td>06-05-2011</td><td>100.0</td><td>Exercise</td><td>Rings</td><td>credit</td></tr><tr><td>7</td><td>12-17-2011</td><td>300.0</td><td>Team Sports</td><td>Field</td><td>cash</td></tr><tr><td>8</td><td>02-14-2011</td><td>200.0</td><td>Gymnastics</td><td>null</td><td>cash</td></tr></tbody></table></div>"
      ]
     },
     "metadata": {
      "application/vnd.databricks.v1+output": {
       "addedWidgets": {},
       "aggData": [],
       "aggError": "",
       "aggOverflow": false,
       "aggSchema": [],
       "aggSeriesLimitReached": false,
       "aggType": "",
       "arguments": {},
       "columnCustomDisplayInfos": {},
       "data": [
        [
         0,
         "06-26-2011",
         300.4,
         "Exercise",
         "GymnasticsPro",
         "cash"
        ],
        [
         1,
         "05-26-2011",
         200.0,
         "Exercise Band",
         "Weightlifting",
         "credit"
        ],
        [
         2,
         "06-01-2011",
         300.4,
         "Exercise",
         "Gymnastics Pro",
         "cash"
        ],
        [
         3,
         "06-05-2011",
         100.0,
         "Gymnastics",
         "Rings",
         "credit"
        ],
        [
         4,
         "12-17-2011",
         300.0,
         "Team Sports",
         "Field",
         "cash"
        ],
        [
         5,
         "02-14-2011",
         200.0,
         "Gymnastics",
         null,
         "cash"
        ],
        [
         6,
         "06-05-2011",
         100.0,
         "Exercise",
         "Rings",
         "credit"
        ],
        [
         7,
         "12-17-2011",
         300.0,
         "Team Sports",
         "Field",
         "cash"
        ],
        [
         8,
         "02-14-2011",
         200.0,
         "Gymnastics",
         null,
         "cash"
        ]
       ],
       "datasetInfos": [],
       "dbfsResultPath": null,
       "isJsonSchema": true,
       "metadata": {},
       "overflow": false,
       "plotOptions": {
        "customPlotOptions": {},
        "displayType": "table",
        "pivotAggregation": null,
        "pivotColumns": null,
        "xColumns": null,
        "yColumns": null
       },
       "removedWidgets": [],
       "schema": [
        {
         "metadata": "{}",
         "name": "id",
         "type": "\"long\""
        },
        {
         "metadata": "{}",
         "name": "tdate",
         "type": "\"string\""
        },
        {
         "metadata": "{}",
         "name": "amount",
         "type": "\"double\""
        },
        {
         "metadata": "{}",
         "name": "category",
         "type": "\"string\""
        },
        {
         "metadata": "{}",
         "name": "product",
         "type": "\"string\""
        },
        {
         "metadata": "{}",
         "name": "spendby",
         "type": "\"string\""
        }
       ],
       "type": "table"
      }
     },
     "output_type": "display_data"
    },
    {
     "output_type": "display_data",
     "data": {
      "text/html": [
       "<style scoped>\n",
       "  .table-result-container {\n",
       "    max-height: 300px;\n",
       "    overflow: auto;\n",
       "  }\n",
       "  table, th, td {\n",
       "    border: 1px solid black;\n",
       "    border-collapse: collapse;\n",
       "  }\n",
       "  th, td {\n",
       "    padding: 5px;\n",
       "  }\n",
       "  th {\n",
       "    text-align: left;\n",
       "  }\n",
       "</style><div class='table-result-container'><table class='table-result'><thead style='background-color: white'><tr><th>id</th><th>tdate</th><th>amount</th><th>category</th><th>product</th><th>spendby</th></tr></thead><tbody><tr><td>4</td><td>12-17-2011</td><td>300.0</td><td>Team Sports</td><td>Field</td><td>cash</td></tr><tr><td>5</td><td>02-14-2011</td><td>200.0</td><td>Gymnastics</td><td>null</td><td>cash</td></tr><tr><td>6</td><td>02-14-2011</td><td>200.0</td><td>Winter</td><td>null</td><td>cash</td></tr><tr><td>7</td><td>02-14-2011</td><td>200.0</td><td>Winter</td><td>null</td><td>cash</td></tr></tbody></table></div>"
      ]
     },
     "metadata": {
      "application/vnd.databricks.v1+output": {
       "addedWidgets": {},
       "aggData": [],
       "aggError": "",
       "aggOverflow": false,
       "aggSchema": [],
       "aggSeriesLimitReached": false,
       "aggType": "",
       "arguments": {},
       "columnCustomDisplayInfos": {},
       "data": [
        [
         4,
         "12-17-2011",
         300.0,
         "Team Sports",
         "Field",
         "cash"
        ],
        [
         5,
         "02-14-2011",
         200.0,
         "Gymnastics",
         null,
         "cash"
        ],
        [
         6,
         "02-14-2011",
         200.0,
         "Winter",
         null,
         "cash"
        ],
        [
         7,
         "02-14-2011",
         200.0,
         "Winter",
         null,
         "cash"
        ]
       ],
       "datasetInfos": [],
       "dbfsResultPath": null,
       "isJsonSchema": true,
       "metadata": {},
       "overflow": false,
       "plotOptions": {
        "customPlotOptions": {},
        "displayType": "table",
        "pivotAggregation": null,
        "pivotColumns": null,
        "xColumns": null,
        "yColumns": null
       },
       "removedWidgets": [],
       "schema": [
        {
         "metadata": "{}",
         "name": "id",
         "type": "\"long\""
        },
        {
         "metadata": "{}",
         "name": "tdate",
         "type": "\"string\""
        },
        {
         "metadata": "{}",
         "name": "amount",
         "type": "\"double\""
        },
        {
         "metadata": "{}",
         "name": "category",
         "type": "\"string\""
        },
        {
         "metadata": "{}",
         "name": "product",
         "type": "\"string\""
        },
        {
         "metadata": "{}",
         "name": "spendby",
         "type": "\"string\""
        }
       ],
       "type": "table"
      }
     },
     "output_type": "display_data"
    },
    {
     "output_type": "display_data",
     "data": {
      "text/html": [
       "<style scoped>\n",
       "  .table-result-container {\n",
       "    max-height: 300px;\n",
       "    overflow: auto;\n",
       "  }\n",
       "  table, th, td {\n",
       "    border: 1px solid black;\n",
       "    border-collapse: collapse;\n",
       "  }\n",
       "  th, td {\n",
       "    padding: 5px;\n",
       "  }\n",
       "  th {\n",
       "    text-align: left;\n",
       "  }\n",
       "</style><div class='table-result-container'><table class='table-result'><thead style='background-color: white'><tr><th>id</th><th>name</th></tr></thead><tbody><tr><td>1</td><td>raj</td></tr><tr><td>2</td><td>ravi</td></tr><tr><td>3</td><td>sai</td></tr><tr><td>5</td><td>rani</td></tr></tbody></table></div>"
      ]
     },
     "metadata": {
      "application/vnd.databricks.v1+output": {
       "addedWidgets": {},
       "aggData": [],
       "aggError": "",
       "aggOverflow": false,
       "aggSchema": [],
       "aggSeriesLimitReached": false,
       "aggType": "",
       "arguments": {},
       "columnCustomDisplayInfos": {},
       "data": [
        [
         1,
         "raj"
        ],
        [
         2,
         "ravi"
        ],
        [
         3,
         "sai"
        ],
        [
         5,
         "rani"
        ]
       ],
       "datasetInfos": [],
       "dbfsResultPath": null,
       "isJsonSchema": true,
       "metadata": {},
       "overflow": false,
       "plotOptions": {
        "customPlotOptions": {},
        "displayType": "table",
        "pivotAggregation": null,
        "pivotColumns": null,
        "xColumns": null,
        "yColumns": null
       },
       "removedWidgets": [],
       "schema": [
        {
         "metadata": "{}",
         "name": "id",
         "type": "\"long\""
        },
        {
         "metadata": "{}",
         "name": "name",
         "type": "\"string\""
        }
       ],
       "type": "table"
      }
     },
     "output_type": "display_data"
    },
    {
     "output_type": "display_data",
     "data": {
      "text/html": [
       "<style scoped>\n",
       "  .table-result-container {\n",
       "    max-height: 300px;\n",
       "    overflow: auto;\n",
       "  }\n",
       "  table, th, td {\n",
       "    border: 1px solid black;\n",
       "    border-collapse: collapse;\n",
       "  }\n",
       "  th, td {\n",
       "    padding: 5px;\n",
       "  }\n",
       "  th {\n",
       "    text-align: left;\n",
       "  }\n",
       "</style><div class='table-result-container'><table class='table-result'><thead style='background-color: white'><tr><th>id</th><th>product</th></tr></thead><tbody><tr><td>1</td><td>mouse</td></tr><tr><td>3</td><td>mobile</td></tr><tr><td>7</td><td>laptop</td></tr></tbody></table></div>"
      ]
     },
     "metadata": {
      "application/vnd.databricks.v1+output": {
       "addedWidgets": {},
       "aggData": [],
       "aggError": "",
       "aggOverflow": false,
       "aggSchema": [],
       "aggSeriesLimitReached": false,
       "aggType": "",
       "arguments": {},
       "columnCustomDisplayInfos": {},
       "data": [
        [
         1,
         "mouse"
        ],
        [
         3,
         "mobile"
        ],
        [
         7,
         "laptop"
        ]
       ],
       "datasetInfos": [],
       "dbfsResultPath": null,
       "isJsonSchema": true,
       "metadata": {},
       "overflow": false,
       "plotOptions": {
        "customPlotOptions": {},
        "displayType": "table",
        "pivotAggregation": null,
        "pivotColumns": null,
        "xColumns": null,
        "yColumns": null
       },
       "removedWidgets": [],
       "schema": [
        {
         "metadata": "{}",
         "name": "id",
         "type": "\"long\""
        },
        {
         "metadata": "{}",
         "name": "product",
         "type": "\"string\""
        }
       ],
       "type": "table"
      }
     },
     "output_type": "display_data"
    }
   ],
   "source": [
    "df.display()\n",
    "df1.display()\n",
    "cust.display()\n",
    "prod.display()"
   ]
  },
  {
   "cell_type": "code",
   "execution_count": 0,
   "metadata": {
    "application/vnd.databricks.v1+cell": {
     "cellMetadata": {
      "byteLimit": 2048000,
      "rowLimit": 10000
     },
     "inputWidgets": {},
     "nuid": "3c05c2fa-06db-40e2-9193-aea3956e2c90",
     "showTitle": false,
     "tableResultSettingsMap": {},
     "title": ""
    }
   },
   "outputs": [
    {
     "output_type": "display_data",
     "data": {
      "text/html": [
       "<style scoped>\n",
       "  .table-result-container {\n",
       "    max-height: 300px;\n",
       "    overflow: auto;\n",
       "  }\n",
       "  table, th, td {\n",
       "    border: 1px solid black;\n",
       "    border-collapse: collapse;\n",
       "  }\n",
       "  th, td {\n",
       "    padding: 5px;\n",
       "  }\n",
       "  th {\n",
       "    text-align: left;\n",
       "  }\n",
       "</style><div class='table-result-container'><table class='table-result'><thead style='background-color: white'><tr><th>id</th><th>tdate</th><th>amount</th><th>category</th><th>product</th><th>spendby</th></tr></thead><tbody><tr><td>0</td><td>06-26-2011</td><td>300.4</td><td>Exercise</td><td>GymnasticsPro</td><td>cash</td></tr><tr><td>1</td><td>05-26-2011</td><td>200.0</td><td>Exercise Band</td><td>Weightlifting</td><td>credit</td></tr><tr><td>2</td><td>06-01-2011</td><td>300.4</td><td>Exercise</td><td>Gymnastics Pro</td><td>cash</td></tr><tr><td>3</td><td>06-05-2011</td><td>100.0</td><td>Gymnastics</td><td>Rings</td><td>credit</td></tr><tr><td>4</td><td>12-17-2011</td><td>300.0</td><td>Team Sports</td><td>Field</td><td>cash</td></tr><tr><td>5</td><td>02-14-2011</td><td>200.0</td><td>Gymnastics</td><td>null</td><td>cash</td></tr><tr><td>6</td><td>06-05-2011</td><td>100.0</td><td>Exercise</td><td>Rings</td><td>credit</td></tr><tr><td>7</td><td>12-17-2011</td><td>300.0</td><td>Team Sports</td><td>Field</td><td>cash</td></tr><tr><td>8</td><td>02-14-2011</td><td>200.0</td><td>Gymnastics</td><td>null</td><td>cash</td></tr><tr><td>4</td><td>12-17-2011</td><td>300.0</td><td>Team Sports</td><td>Field</td><td>cash</td></tr><tr><td>5</td><td>02-14-2011</td><td>200.0</td><td>Gymnastics</td><td>null</td><td>cash</td></tr><tr><td>6</td><td>02-14-2011</td><td>200.0</td><td>Winter</td><td>null</td><td>cash</td></tr><tr><td>7</td><td>02-14-2011</td><td>200.0</td><td>Winter</td><td>null</td><td>cash</td></tr></tbody></table></div>"
      ]
     },
     "metadata": {
      "application/vnd.databricks.v1+output": {
       "addedWidgets": {},
       "aggData": [],
       "aggError": "",
       "aggOverflow": false,
       "aggSchema": [],
       "aggSeriesLimitReached": false,
       "aggType": "",
       "arguments": {},
       "columnCustomDisplayInfos": {},
       "data": [
        [
         0,
         "06-26-2011",
         300.4,
         "Exercise",
         "GymnasticsPro",
         "cash"
        ],
        [
         1,
         "05-26-2011",
         200.0,
         "Exercise Band",
         "Weightlifting",
         "credit"
        ],
        [
         2,
         "06-01-2011",
         300.4,
         "Exercise",
         "Gymnastics Pro",
         "cash"
        ],
        [
         3,
         "06-05-2011",
         100.0,
         "Gymnastics",
         "Rings",
         "credit"
        ],
        [
         4,
         "12-17-2011",
         300.0,
         "Team Sports",
         "Field",
         "cash"
        ],
        [
         5,
         "02-14-2011",
         200.0,
         "Gymnastics",
         null,
         "cash"
        ],
        [
         6,
         "06-05-2011",
         100.0,
         "Exercise",
         "Rings",
         "credit"
        ],
        [
         7,
         "12-17-2011",
         300.0,
         "Team Sports",
         "Field",
         "cash"
        ],
        [
         8,
         "02-14-2011",
         200.0,
         "Gymnastics",
         null,
         "cash"
        ],
        [
         4,
         "12-17-2011",
         300.0,
         "Team Sports",
         "Field",
         "cash"
        ],
        [
         5,
         "02-14-2011",
         200.0,
         "Gymnastics",
         null,
         "cash"
        ],
        [
         6,
         "02-14-2011",
         200.0,
         "Winter",
         null,
         "cash"
        ],
        [
         7,
         "02-14-2011",
         200.0,
         "Winter",
         null,
         "cash"
        ]
       ],
       "datasetInfos": [],
       "dbfsResultPath": null,
       "isJsonSchema": true,
       "metadata": {},
       "overflow": false,
       "plotOptions": {
        "customPlotOptions": {},
        "displayType": "table",
        "pivotAggregation": null,
        "pivotColumns": null,
        "xColumns": null,
        "yColumns": null
       },
       "removedWidgets": [],
       "schema": [
        {
         "metadata": "{}",
         "name": "id",
         "type": "\"long\""
        },
        {
         "metadata": "{}",
         "name": "tdate",
         "type": "\"string\""
        },
        {
         "metadata": "{}",
         "name": "amount",
         "type": "\"double\""
        },
        {
         "metadata": "{}",
         "name": "category",
         "type": "\"string\""
        },
        {
         "metadata": "{}",
         "name": "product",
         "type": "\"string\""
        },
        {
         "metadata": "{}",
         "name": "spendby",
         "type": "\"string\""
        }
       ],
       "type": "table"
      }
     },
     "output_type": "display_data"
    }
   ],
   "source": [
    "spark.sql(\"SELECT * FROM df UNION ALL SELECT * FROM df1\").display()"
   ]
  },
  {
   "cell_type": "code",
   "execution_count": 0,
   "metadata": {
    "application/vnd.databricks.v1+cell": {
     "cellMetadata": {
      "byteLimit": 2048000,
      "rowLimit": 10000
     },
     "inputWidgets": {},
     "nuid": "786d4ef4-c43a-4904-b5fd-c3b609afa5b0",
     "showTitle": false,
     "tableResultSettingsMap": {},
     "title": ""
    }
   },
   "outputs": [
    {
     "output_type": "display_data",
     "data": {
      "text/html": [
       "<style scoped>\n",
       "  .table-result-container {\n",
       "    max-height: 300px;\n",
       "    overflow: auto;\n",
       "  }\n",
       "  table, th, td {\n",
       "    border: 1px solid black;\n",
       "    border-collapse: collapse;\n",
       "  }\n",
       "  th, td {\n",
       "    padding: 5px;\n",
       "  }\n",
       "  th {\n",
       "    text-align: left;\n",
       "  }\n",
       "</style><div class='table-result-container'><table class='table-result'><thead style='background-color: white'><tr><th>id</th><th>tdate</th><th>amount</th><th>category</th><th>product</th><th>spendby</th></tr></thead><tbody><tr><td>0</td><td>06-26-2011</td><td>300.4</td><td>Exercise</td><td>GymnasticsPro</td><td>cash</td></tr><tr><td>1</td><td>05-26-2011</td><td>200.0</td><td>Exercise Band</td><td>Weightlifting</td><td>credit</td></tr><tr><td>2</td><td>06-01-2011</td><td>300.4</td><td>Exercise</td><td>Gymnastics Pro</td><td>cash</td></tr><tr><td>3</td><td>06-05-2011</td><td>100.0</td><td>Gymnastics</td><td>Rings</td><td>credit</td></tr><tr><td>4</td><td>12-17-2011</td><td>300.0</td><td>Team Sports</td><td>Field</td><td>cash</td></tr><tr><td>5</td><td>02-14-2011</td><td>200.0</td><td>Gymnastics</td><td>null</td><td>cash</td></tr><tr><td>6</td><td>06-05-2011</td><td>100.0</td><td>Exercise</td><td>Rings</td><td>credit</td></tr><tr><td>7</td><td>12-17-2011</td><td>300.0</td><td>Team Sports</td><td>Field</td><td>cash</td></tr><tr><td>8</td><td>02-14-2011</td><td>200.0</td><td>Gymnastics</td><td>null</td><td>cash</td></tr><tr><td>6</td><td>02-14-2011</td><td>200.0</td><td>Winter</td><td>null</td><td>cash</td></tr><tr><td>7</td><td>02-14-2011</td><td>200.0</td><td>Winter</td><td>null</td><td>cash</td></tr></tbody></table></div>"
      ]
     },
     "metadata": {
      "application/vnd.databricks.v1+output": {
       "addedWidgets": {},
       "aggData": [],
       "aggError": "",
       "aggOverflow": false,
       "aggSchema": [],
       "aggSeriesLimitReached": false,
       "aggType": "",
       "arguments": {},
       "columnCustomDisplayInfos": {},
       "data": [
        [
         0,
         "06-26-2011",
         300.4,
         "Exercise",
         "GymnasticsPro",
         "cash"
        ],
        [
         1,
         "05-26-2011",
         200.0,
         "Exercise Band",
         "Weightlifting",
         "credit"
        ],
        [
         2,
         "06-01-2011",
         300.4,
         "Exercise",
         "Gymnastics Pro",
         "cash"
        ],
        [
         3,
         "06-05-2011",
         100.0,
         "Gymnastics",
         "Rings",
         "credit"
        ],
        [
         4,
         "12-17-2011",
         300.0,
         "Team Sports",
         "Field",
         "cash"
        ],
        [
         5,
         "02-14-2011",
         200.0,
         "Gymnastics",
         null,
         "cash"
        ],
        [
         6,
         "06-05-2011",
         100.0,
         "Exercise",
         "Rings",
         "credit"
        ],
        [
         7,
         "12-17-2011",
         300.0,
         "Team Sports",
         "Field",
         "cash"
        ],
        [
         8,
         "02-14-2011",
         200.0,
         "Gymnastics",
         null,
         "cash"
        ],
        [
         6,
         "02-14-2011",
         200.0,
         "Winter",
         null,
         "cash"
        ],
        [
         7,
         "02-14-2011",
         200.0,
         "Winter",
         null,
         "cash"
        ]
       ],
       "datasetInfos": [],
       "dbfsResultPath": null,
       "isJsonSchema": true,
       "metadata": {},
       "overflow": false,
       "plotOptions": {
        "customPlotOptions": {},
        "displayType": "table",
        "pivotAggregation": null,
        "pivotColumns": null,
        "xColumns": null,
        "yColumns": null
       },
       "removedWidgets": [],
       "schema": [
        {
         "metadata": "{}",
         "name": "id",
         "type": "\"long\""
        },
        {
         "metadata": "{}",
         "name": "tdate",
         "type": "\"string\""
        },
        {
         "metadata": "{}",
         "name": "amount",
         "type": "\"double\""
        },
        {
         "metadata": "{}",
         "name": "category",
         "type": "\"string\""
        },
        {
         "metadata": "{}",
         "name": "product",
         "type": "\"string\""
        },
        {
         "metadata": "{}",
         "name": "spendby",
         "type": "\"string\""
        }
       ],
       "type": "table"
      }
     },
     "output_type": "display_data"
    }
   ],
   "source": [
    "spark.sql(\"SELECT * FROM df UNION SELECT * FROM df1\").display()"
   ]
  },
  {
   "cell_type": "code",
   "execution_count": 0,
   "metadata": {
    "application/vnd.databricks.v1+cell": {
     "cellMetadata": {
      "byteLimit": 2048000,
      "rowLimit": 10000
     },
     "inputWidgets": {},
     "nuid": "7205d8dd-59d4-49c0-8992-82fe02b8564e",
     "showTitle": false,
     "tableResultSettingsMap": {},
     "title": ""
    }
   },
   "outputs": [
    {
     "output_type": "display_data",
     "data": {
      "text/html": [
       "<style scoped>\n",
       "  .table-result-container {\n",
       "    max-height: 300px;\n",
       "    overflow: auto;\n",
       "  }\n",
       "  table, th, td {\n",
       "    border: 1px solid black;\n",
       "    border-collapse: collapse;\n",
       "  }\n",
       "  th, td {\n",
       "    padding: 5px;\n",
       "  }\n",
       "  th {\n",
       "    text-align: left;\n",
       "  }\n",
       "</style><div class='table-result-container'><table class='table-result'><thead style='background-color: white'><tr><th>category</th><th>total_amount</th></tr></thead><tbody><tr><td>Exercise</td><td>700.8</td></tr><tr><td>Exercise Band</td><td>200.0</td></tr><tr><td>Gymnastics</td><td>500.0</td></tr><tr><td>Team Sports</td><td>600.0</td></tr></tbody></table></div>"
      ]
     },
     "metadata": {
      "application/vnd.databricks.v1+output": {
       "addedWidgets": {},
       "aggData": [],
       "aggError": "",
       "aggOverflow": false,
       "aggSchema": [],
       "aggSeriesLimitReached": false,
       "aggType": "",
       "arguments": {},
       "columnCustomDisplayInfos": {},
       "data": [
        [
         "Exercise",
         700.8
        ],
        [
         "Exercise Band",
         200.0
        ],
        [
         "Gymnastics",
         500.0
        ],
        [
         "Team Sports",
         600.0
        ]
       ],
       "datasetInfos": [],
       "dbfsResultPath": null,
       "isJsonSchema": true,
       "metadata": {},
       "overflow": false,
       "plotOptions": {
        "customPlotOptions": {},
        "displayType": "table",
        "pivotAggregation": null,
        "pivotColumns": null,
        "xColumns": null,
        "yColumns": null
       },
       "removedWidgets": [],
       "schema": [
        {
         "metadata": "{}",
         "name": "category",
         "type": "\"string\""
        },
        {
         "metadata": "{}",
         "name": "total_amount",
         "type": "\"double\""
        }
       ],
       "type": "table"
      }
     },
     "output_type": "display_data"
    }
   ],
   "source": [
    "spark.sql(\"SELECT category, sum(amount) as total_amount FROM df GROUP BY category\").display()"
   ]
  },
  {
   "cell_type": "code",
   "execution_count": 0,
   "metadata": {
    "application/vnd.databricks.v1+cell": {
     "cellMetadata": {
      "byteLimit": 2048000,
      "rowLimit": 10000
     },
     "inputWidgets": {},
     "nuid": "1d0ae6b4-d004-4c4a-a189-2de8fe858d13",
     "showTitle": false,
     "tableResultSettingsMap": {},
     "title": ""
    }
   },
   "outputs": [
    {
     "output_type": "display_data",
     "data": {
      "text/html": [
       "<style scoped>\n",
       "  .table-result-container {\n",
       "    max-height: 300px;\n",
       "    overflow: auto;\n",
       "  }\n",
       "  table, th, td {\n",
       "    border: 1px solid black;\n",
       "    border-collapse: collapse;\n",
       "  }\n",
       "  th, td {\n",
       "    padding: 5px;\n",
       "  }\n",
       "  th {\n",
       "    text-align: left;\n",
       "  }\n",
       "</style><div class='table-result-container'><table class='table-result'><thead style='background-color: white'><tr><th>category</th><th>spendby</th><th>sum(amount)</th></tr></thead><tbody><tr><td>Exercise</td><td>cash</td><td>600.8</td></tr><tr><td>Exercise Band</td><td>credit</td><td>200.0</td></tr><tr><td>Gymnastics</td><td>credit</td><td>100.0</td></tr><tr><td>Team Sports</td><td>cash</td><td>600.0</td></tr><tr><td>Gymnastics</td><td>cash</td><td>400.0</td></tr><tr><td>Exercise</td><td>credit</td><td>100.0</td></tr></tbody></table></div>"
      ]
     },
     "metadata": {
      "application/vnd.databricks.v1+output": {
       "addedWidgets": {},
       "aggData": [],
       "aggError": "",
       "aggOverflow": false,
       "aggSchema": [],
       "aggSeriesLimitReached": false,
       "aggType": "",
       "arguments": {},
       "columnCustomDisplayInfos": {},
       "data": [
        [
         "Exercise",
         "cash",
         600.8
        ],
        [
         "Exercise Band",
         "credit",
         200.0
        ],
        [
         "Gymnastics",
         "credit",
         100.0
        ],
        [
         "Team Sports",
         "cash",
         600.0
        ],
        [
         "Gymnastics",
         "cash",
         400.0
        ],
        [
         "Exercise",
         "credit",
         100.0
        ]
       ],
       "datasetInfos": [],
       "dbfsResultPath": null,
       "isJsonSchema": true,
       "metadata": {},
       "overflow": false,
       "plotOptions": {
        "customPlotOptions": {},
        "displayType": "table",
        "pivotAggregation": null,
        "pivotColumns": null,
        "xColumns": null,
        "yColumns": null
       },
       "removedWidgets": [],
       "schema": [
        {
         "metadata": "{}",
         "name": "category",
         "type": "\"string\""
        },
        {
         "metadata": "{}",
         "name": "spendby",
         "type": "\"string\""
        },
        {
         "metadata": "{\"__autoGeneratedAlias\":\"true\"}",
         "name": "sum(amount)",
         "type": "\"double\""
        }
       ],
       "type": "table"
      }
     },
     "output_type": "display_data"
    }
   ],
   "source": [
    "spark.sql(\"SELECT category, spendby, sum(amount) FROM df GROUP BY category, spendby\").display()"
   ]
  },
  {
   "cell_type": "code",
   "execution_count": 0,
   "metadata": {
    "application/vnd.databricks.v1+cell": {
     "cellMetadata": {
      "byteLimit": 2048000,
      "rowLimit": 10000
     },
     "inputWidgets": {},
     "nuid": "413b8f9e-8e0f-4b6f-8d08-1a4b93c0ddbc",
     "showTitle": false,
     "tableResultSettingsMap": {},
     "title": ""
    }
   },
   "outputs": [
    {
     "output_type": "display_data",
     "data": {
      "text/html": [
       "<style scoped>\n",
       "  .table-result-container {\n",
       "    max-height: 300px;\n",
       "    overflow: auto;\n",
       "  }\n",
       "  table, th, td {\n",
       "    border: 1px solid black;\n",
       "    border-collapse: collapse;\n",
       "  }\n",
       "  th, td {\n",
       "    padding: 5px;\n",
       "  }\n",
       "  th {\n",
       "    text-align: left;\n",
       "  }\n",
       "</style><div class='table-result-container'><table class='table-result'><thead style='background-color: white'><tr><th>category</th><th>spendby</th><th>total</th><th>count</th></tr></thead><tbody><tr><td>Exercise</td><td>cash</td><td>600.8</td><td>2</td></tr><tr><td>Exercise Band</td><td>credit</td><td>200.0</td><td>1</td></tr><tr><td>Gymnastics</td><td>credit</td><td>100.0</td><td>1</td></tr><tr><td>Team Sports</td><td>cash</td><td>600.0</td><td>2</td></tr><tr><td>Gymnastics</td><td>cash</td><td>400.0</td><td>2</td></tr><tr><td>Exercise</td><td>credit</td><td>100.0</td><td>1</td></tr></tbody></table></div>"
      ]
     },
     "metadata": {
      "application/vnd.databricks.v1+output": {
       "addedWidgets": {},
       "aggData": [],
       "aggError": "",
       "aggOverflow": false,
       "aggSchema": [],
       "aggSeriesLimitReached": false,
       "aggType": "",
       "arguments": {},
       "columnCustomDisplayInfos": {},
       "data": [
        [
         "Exercise",
         "cash",
         600.8,
         2
        ],
        [
         "Exercise Band",
         "credit",
         200.0,
         1
        ],
        [
         "Gymnastics",
         "credit",
         100.0,
         1
        ],
        [
         "Team Sports",
         "cash",
         600.0,
         2
        ],
        [
         "Gymnastics",
         "cash",
         400.0,
         2
        ],
        [
         "Exercise",
         "credit",
         100.0,
         1
        ]
       ],
       "datasetInfos": [],
       "dbfsResultPath": null,
       "isJsonSchema": true,
       "metadata": {},
       "overflow": false,
       "plotOptions": {
        "customPlotOptions": {},
        "displayType": "table",
        "pivotAggregation": null,
        "pivotColumns": null,
        "xColumns": null,
        "yColumns": null
       },
       "removedWidgets": [],
       "schema": [
        {
         "metadata": "{}",
         "name": "category",
         "type": "\"string\""
        },
        {
         "metadata": "{}",
         "name": "spendby",
         "type": "\"string\""
        },
        {
         "metadata": "{}",
         "name": "total",
         "type": "\"double\""
        },
        {
         "metadata": "{}",
         "name": "count",
         "type": "\"long\""
        }
       ],
       "type": "table"
      }
     },
     "output_type": "display_data"
    }
   ],
   "source": [
    "spark.sql(\"SELECT category, spendby, sum(amount) as total, count(amount) as count FROM df GROUP BY category, spendby\").display()"
   ]
  },
  {
   "cell_type": "code",
   "execution_count": 0,
   "metadata": {
    "application/vnd.databricks.v1+cell": {
     "cellMetadata": {
      "byteLimit": 2048000,
      "rowLimit": 10000
     },
     "inputWidgets": {},
     "nuid": "ba4634c2-cebd-4ca7-b844-f2393d91e559",
     "showTitle": false,
     "tableResultSettingsMap": {},
     "title": ""
    }
   },
   "outputs": [
    {
     "output_type": "display_data",
     "data": {
      "text/html": [
       "<style scoped>\n",
       "  .table-result-container {\n",
       "    max-height: 300px;\n",
       "    overflow: auto;\n",
       "  }\n",
       "  table, th, td {\n",
       "    border: 1px solid black;\n",
       "    border-collapse: collapse;\n",
       "  }\n",
       "  th, td {\n",
       "    padding: 5px;\n",
       "  }\n",
       "  th {\n",
       "    text-align: left;\n",
       "  }\n",
       "</style><div class='table-result-container'><table class='table-result'><thead style='background-color: white'><tr><th>category</th><th>max_value</th></tr></thead><tbody><tr><td>Exercise</td><td>300.4</td></tr><tr><td>Exercise Band</td><td>200.0</td></tr><tr><td>Gymnastics</td><td>200.0</td></tr><tr><td>Team Sports</td><td>300.0</td></tr></tbody></table></div>"
      ]
     },
     "metadata": {
      "application/vnd.databricks.v1+output": {
       "addedWidgets": {},
       "aggData": [],
       "aggError": "",
       "aggOverflow": false,
       "aggSchema": [],
       "aggSeriesLimitReached": false,
       "aggType": "",
       "arguments": {},
       "columnCustomDisplayInfos": {},
       "data": [
        [
         "Exercise",
         300.4
        ],
        [
         "Exercise Band",
         200.0
        ],
        [
         "Gymnastics",
         200.0
        ],
        [
         "Team Sports",
         300.0
        ]
       ],
       "datasetInfos": [],
       "dbfsResultPath": null,
       "isJsonSchema": true,
       "metadata": {},
       "overflow": false,
       "plotOptions": {
        "customPlotOptions": {},
        "displayType": "table",
        "pivotAggregation": null,
        "pivotColumns": null,
        "xColumns": null,
        "yColumns": null
       },
       "removedWidgets": [],
       "schema": [
        {
         "metadata": "{}",
         "name": "category",
         "type": "\"string\""
        },
        {
         "metadata": "{}",
         "name": "max_value",
         "type": "\"double\""
        }
       ],
       "type": "table"
      }
     },
     "output_type": "display_data"
    }
   ],
   "source": [
    "spark.sql(\"SELECT category, max(amount) as max_value FROM df GROUP BY category\").display()"
   ]
  },
  {
   "cell_type": "code",
   "execution_count": 0,
   "metadata": {
    "application/vnd.databricks.v1+cell": {
     "cellMetadata": {
      "byteLimit": 2048000,
      "rowLimit": 10000
     },
     "inputWidgets": {},
     "nuid": "fb56a477-31b5-41c1-b357-90a58ab8245c",
     "showTitle": false,
     "tableResultSettingsMap": {},
     "title": ""
    }
   },
   "outputs": [
    {
     "output_type": "display_data",
     "data": {
      "text/html": [
       "<style scoped>\n",
       "  .table-result-container {\n",
       "    max-height: 300px;\n",
       "    overflow: auto;\n",
       "  }\n",
       "  table, th, td {\n",
       "    border: 1px solid black;\n",
       "    border-collapse: collapse;\n",
       "  }\n",
       "  th, td {\n",
       "    padding: 5px;\n",
       "  }\n",
       "  th {\n",
       "    text-align: left;\n",
       "  }\n",
       "</style><div class='table-result-container'><table class='table-result'><thead style='background-color: white'><tr><th>category</th><th>max_value</th></tr></thead><tbody><tr><td>Team Sports</td><td>300.0</td></tr><tr><td>Gymnastics</td><td>200.0</td></tr><tr><td>Exercise Band</td><td>200.0</td></tr><tr><td>Exercise</td><td>300.4</td></tr></tbody></table></div>"
      ]
     },
     "metadata": {
      "application/vnd.databricks.v1+output": {
       "addedWidgets": {},
       "aggData": [],
       "aggError": "",
       "aggOverflow": false,
       "aggSchema": [],
       "aggSeriesLimitReached": false,
       "aggType": "",
       "arguments": {},
       "columnCustomDisplayInfos": {},
       "data": [
        [
         "Team Sports",
         300.0
        ],
        [
         "Gymnastics",
         200.0
        ],
        [
         "Exercise Band",
         200.0
        ],
        [
         "Exercise",
         300.4
        ]
       ],
       "datasetInfos": [],
       "dbfsResultPath": null,
       "isJsonSchema": true,
       "metadata": {},
       "overflow": false,
       "plotOptions": {
        "customPlotOptions": {},
        "displayType": "table",
        "pivotAggregation": null,
        "pivotColumns": null,
        "xColumns": null,
        "yColumns": null
       },
       "removedWidgets": [],
       "schema": [
        {
         "metadata": "{}",
         "name": "category",
         "type": "\"string\""
        },
        {
         "metadata": "{}",
         "name": "max_value",
         "type": "\"double\""
        }
       ],
       "type": "table"
      }
     },
     "output_type": "display_data"
    }
   ],
   "source": [
    "spark.sql(\"SELECT category, max(amount) as max_value FROM df GROUP BY category ORDER BY category desc\").display()"
   ]
  },
  {
   "cell_type": "code",
   "execution_count": 0,
   "metadata": {
    "application/vnd.databricks.v1+cell": {
     "cellMetadata": {
      "byteLimit": 2048000,
      "rowLimit": 10000
     },
     "inputWidgets": {},
     "nuid": "638964bd-f9e1-466e-bb14-f241b86a2a21",
     "showTitle": false,
     "tableResultSettingsMap": {},
     "title": ""
    }
   },
   "outputs": [
    {
     "output_type": "display_data",
     "data": {
      "text/html": [
       "<style scoped>\n",
       "  .table-result-container {\n",
       "    max-height: 300px;\n",
       "    overflow: auto;\n",
       "  }\n",
       "  table, th, td {\n",
       "    border: 1px solid black;\n",
       "    border-collapse: collapse;\n",
       "  }\n",
       "  th, td {\n",
       "    padding: 5px;\n",
       "  }\n",
       "  th {\n",
       "    text-align: left;\n",
       "  }\n",
       "</style><div class='table-result-container'><table class='table-result'><thead style='background-color: white'><tr><th>category</th><th>amount</th><th>rownumber</th></tr></thead><tbody><tr><td>Team Sports</td><td>300.0</td><td>1</td></tr><tr><td>Team Sports</td><td>300.0</td><td>2</td></tr><tr><td>Gymnastics</td><td>200.0</td><td>1</td></tr><tr><td>Gymnastics</td><td>200.0</td><td>2</td></tr><tr><td>Gymnastics</td><td>100.0</td><td>3</td></tr><tr><td>Exercise Band</td><td>200.0</td><td>1</td></tr><tr><td>Exercise</td><td>300.4</td><td>1</td></tr><tr><td>Exercise</td><td>300.4</td><td>2</td></tr><tr><td>Exercise</td><td>100.0</td><td>3</td></tr></tbody></table></div>"
      ]
     },
     "metadata": {
      "application/vnd.databricks.v1+output": {
       "addedWidgets": {},
       "aggData": [],
       "aggError": "",
       "aggOverflow": false,
       "aggSchema": [],
       "aggSeriesLimitReached": false,
       "aggType": "",
       "arguments": {},
       "columnCustomDisplayInfos": {},
       "data": [
        [
         "Team Sports",
         300.0,
         1
        ],
        [
         "Team Sports",
         300.0,
         2
        ],
        [
         "Gymnastics",
         200.0,
         1
        ],
        [
         "Gymnastics",
         200.0,
         2
        ],
        [
         "Gymnastics",
         100.0,
         3
        ],
        [
         "Exercise Band",
         200.0,
         1
        ],
        [
         "Exercise",
         300.4,
         1
        ],
        [
         "Exercise",
         300.4,
         2
        ],
        [
         "Exercise",
         100.0,
         3
        ]
       ],
       "datasetInfos": [],
       "dbfsResultPath": null,
       "isJsonSchema": true,
       "metadata": {},
       "overflow": false,
       "plotOptions": {
        "customPlotOptions": {},
        "displayType": "table",
        "pivotAggregation": null,
        "pivotColumns": null,
        "xColumns": null,
        "yColumns": null
       },
       "removedWidgets": [],
       "schema": [
        {
         "metadata": "{}",
         "name": "category",
         "type": "\"string\""
        },
        {
         "metadata": "{}",
         "name": "amount",
         "type": "\"double\""
        },
        {
         "metadata": "{}",
         "name": "rownumber",
         "type": "\"integer\""
        }
       ],
       "type": "table"
      }
     },
     "output_type": "display_data"
    }
   ],
   "source": [
    "spark.sql(\"SELECT category, amount, row_number() over(PARTITION BY category ORDER BY amount DESC) as rownumber FROM df ORDER BY category DESC\").display()"
   ]
  },
  {
   "cell_type": "code",
   "execution_count": 0,
   "metadata": {
    "application/vnd.databricks.v1+cell": {
     "cellMetadata": {
      "byteLimit": 2048000,
      "rowLimit": 10000
     },
     "inputWidgets": {},
     "nuid": "505e6248-00b9-4892-8aae-7face9497515",
     "showTitle": false,
     "tableResultSettingsMap": {},
     "title": ""
    }
   },
   "outputs": [
    {
     "output_type": "display_data",
     "data": {
      "text/html": [
       "<style scoped>\n",
       "  .table-result-container {\n",
       "    max-height: 300px;\n",
       "    overflow: auto;\n",
       "  }\n",
       "  table, th, td {\n",
       "    border: 1px solid black;\n",
       "    border-collapse: collapse;\n",
       "  }\n",
       "  th, td {\n",
       "    padding: 5px;\n",
       "  }\n",
       "  th {\n",
       "    text-align: left;\n",
       "  }\n",
       "</style><div class='table-result-container'><table class='table-result'><thead style='background-color: white'><tr><th>category</th><th>amount</th><th>rank_value</th></tr></thead><tbody><tr><td>Exercise</td><td>300.4</td><td>1</td></tr><tr><td>Exercise</td><td>300.4</td><td>1</td></tr><tr><td>Exercise</td><td>100.0</td><td>3</td></tr><tr><td>Exercise Band</td><td>200.0</td><td>1</td></tr><tr><td>Gymnastics</td><td>200.0</td><td>1</td></tr><tr><td>Gymnastics</td><td>200.0</td><td>1</td></tr><tr><td>Gymnastics</td><td>100.0</td><td>3</td></tr><tr><td>Team Sports</td><td>300.0</td><td>1</td></tr><tr><td>Team Sports</td><td>300.0</td><td>1</td></tr></tbody></table></div>"
      ]
     },
     "metadata": {
      "application/vnd.databricks.v1+output": {
       "addedWidgets": {},
       "aggData": [],
       "aggError": "",
       "aggOverflow": false,
       "aggSchema": [],
       "aggSeriesLimitReached": false,
       "aggType": "",
       "arguments": {},
       "columnCustomDisplayInfos": {},
       "data": [
        [
         "Exercise",
         300.4,
         1
        ],
        [
         "Exercise",
         300.4,
         1
        ],
        [
         "Exercise",
         100.0,
         3
        ],
        [
         "Exercise Band",
         200.0,
         1
        ],
        [
         "Gymnastics",
         200.0,
         1
        ],
        [
         "Gymnastics",
         200.0,
         1
        ],
        [
         "Gymnastics",
         100.0,
         3
        ],
        [
         "Team Sports",
         300.0,
         1
        ],
        [
         "Team Sports",
         300.0,
         1
        ]
       ],
       "datasetInfos": [],
       "dbfsResultPath": null,
       "isJsonSchema": true,
       "metadata": {},
       "overflow": false,
       "plotOptions": {
        "customPlotOptions": {},
        "displayType": "table",
        "pivotAggregation": null,
        "pivotColumns": null,
        "xColumns": null,
        "yColumns": null
       },
       "removedWidgets": [],
       "schema": [
        {
         "metadata": "{}",
         "name": "category",
         "type": "\"string\""
        },
        {
         "metadata": "{}",
         "name": "amount",
         "type": "\"double\""
        },
        {
         "metadata": "{}",
         "name": "rank_value",
         "type": "\"integer\""
        }
       ],
       "type": "table"
      }
     },
     "output_type": "display_data"
    }
   ],
   "source": [
    "spark.sql(\"SELECT category, amount, rank() OVER(PARTITION BY category ORDER BY amount DESC) as rank_value FROM df\").display()"
   ]
  },
  {
   "cell_type": "code",
   "execution_count": 0,
   "metadata": {
    "application/vnd.databricks.v1+cell": {
     "cellMetadata": {
      "byteLimit": 2048000,
      "rowLimit": 10000
     },
     "inputWidgets": {},
     "nuid": "8debfb4a-9df0-4e9d-9dc4-667b5d624c3d",
     "showTitle": false,
     "tableResultSettingsMap": {},
     "title": ""
    }
   },
   "outputs": [
    {
     "output_type": "display_data",
     "data": {
      "text/html": [
       "<style scoped>\n",
       "  .table-result-container {\n",
       "    max-height: 300px;\n",
       "    overflow: auto;\n",
       "  }\n",
       "  table, th, td {\n",
       "    border: 1px solid black;\n",
       "    border-collapse: collapse;\n",
       "  }\n",
       "  th, td {\n",
       "    padding: 5px;\n",
       "  }\n",
       "  th {\n",
       "    text-align: left;\n",
       "  }\n",
       "</style><div class='table-result-container'><table class='table-result'><thead style='background-color: white'><tr><th>category</th><th>amount</th><th>dense_rank</th></tr></thead><tbody><tr><td>Exercise</td><td>300.4</td><td>1</td></tr><tr><td>Exercise</td><td>300.4</td><td>1</td></tr><tr><td>Exercise</td><td>100.0</td><td>2</td></tr><tr><td>Exercise Band</td><td>200.0</td><td>1</td></tr><tr><td>Gymnastics</td><td>200.0</td><td>1</td></tr><tr><td>Gymnastics</td><td>200.0</td><td>1</td></tr><tr><td>Gymnastics</td><td>100.0</td><td>2</td></tr><tr><td>Team Sports</td><td>300.0</td><td>1</td></tr><tr><td>Team Sports</td><td>300.0</td><td>1</td></tr></tbody></table></div>"
      ]
     },
     "metadata": {
      "application/vnd.databricks.v1+output": {
       "addedWidgets": {},
       "aggData": [],
       "aggError": "",
       "aggOverflow": false,
       "aggSchema": [],
       "aggSeriesLimitReached": false,
       "aggType": "",
       "arguments": {},
       "columnCustomDisplayInfos": {},
       "data": [
        [
         "Exercise",
         300.4,
         1
        ],
        [
         "Exercise",
         300.4,
         1
        ],
        [
         "Exercise",
         100.0,
         2
        ],
        [
         "Exercise Band",
         200.0,
         1
        ],
        [
         "Gymnastics",
         200.0,
         1
        ],
        [
         "Gymnastics",
         200.0,
         1
        ],
        [
         "Gymnastics",
         100.0,
         2
        ],
        [
         "Team Sports",
         300.0,
         1
        ],
        [
         "Team Sports",
         300.0,
         1
        ]
       ],
       "datasetInfos": [],
       "dbfsResultPath": null,
       "isJsonSchema": true,
       "metadata": {},
       "overflow": false,
       "plotOptions": {
        "customPlotOptions": {},
        "displayType": "table",
        "pivotAggregation": null,
        "pivotColumns": null,
        "xColumns": null,
        "yColumns": null
       },
       "removedWidgets": [],
       "schema": [
        {
         "metadata": "{}",
         "name": "category",
         "type": "\"string\""
        },
        {
         "metadata": "{}",
         "name": "amount",
         "type": "\"double\""
        },
        {
         "metadata": "{}",
         "name": "dense_rank",
         "type": "\"integer\""
        }
       ],
       "type": "table"
      }
     },
     "output_type": "display_data"
    }
   ],
   "source": [
    "spark.sql(\"SELECT category, amount, dense_rank() OVER (PARTITION BY category ORDER BY amount DESC) as dense_rank FROM df\").display()"
   ]
  },
  {
   "cell_type": "code",
   "execution_count": 0,
   "metadata": {
    "application/vnd.databricks.v1+cell": {
     "cellMetadata": {
      "byteLimit": 2048000,
      "rowLimit": 10000
     },
     "inputWidgets": {},
     "nuid": "a6db116b-b64c-4e43-a99c-8487ffc90402",
     "showTitle": false,
     "tableResultSettingsMap": {},
     "title": ""
    }
   },
   "outputs": [
    {
     "output_type": "display_data",
     "data": {
      "text/html": [
       "<style scoped>\n",
       "  .table-result-container {\n",
       "    max-height: 300px;\n",
       "    overflow: auto;\n",
       "  }\n",
       "  table, th, td {\n",
       "    border: 1px solid black;\n",
       "    border-collapse: collapse;\n",
       "  }\n",
       "  th, td {\n",
       "    padding: 5px;\n",
       "  }\n",
       "  th {\n",
       "    text-align: left;\n",
       "  }\n",
       "</style><div class='table-result-container'><table class='table-result'><thead style='background-color: white'><tr><th>category</th><th>amount</th><th>lead_datax</th></tr></thead><tbody><tr><td>Exercise</td><td>300.4</td><td>300.4</td></tr><tr><td>Exercise</td><td>300.4</td><td>100.0</td></tr><tr><td>Exercise</td><td>100.0</td><td>null</td></tr><tr><td>Exercise Band</td><td>200.0</td><td>null</td></tr><tr><td>Gymnastics</td><td>200.0</td><td>200.0</td></tr><tr><td>Gymnastics</td><td>200.0</td><td>100.0</td></tr><tr><td>Gymnastics</td><td>100.0</td><td>null</td></tr><tr><td>Team Sports</td><td>300.0</td><td>300.0</td></tr><tr><td>Team Sports</td><td>300.0</td><td>null</td></tr></tbody></table></div>"
      ]
     },
     "metadata": {
      "application/vnd.databricks.v1+output": {
       "addedWidgets": {},
       "aggData": [],
       "aggError": "",
       "aggOverflow": false,
       "aggSchema": [],
       "aggSeriesLimitReached": false,
       "aggType": "",
       "arguments": {},
       "columnCustomDisplayInfos": {},
       "data": [
        [
         "Exercise",
         300.4,
         300.4
        ],
        [
         "Exercise",
         300.4,
         100.0
        ],
        [
         "Exercise",
         100.0,
         null
        ],
        [
         "Exercise Band",
         200.0,
         null
        ],
        [
         "Gymnastics",
         200.0,
         200.0
        ],
        [
         "Gymnastics",
         200.0,
         100.0
        ],
        [
         "Gymnastics",
         100.0,
         null
        ],
        [
         "Team Sports",
         300.0,
         300.0
        ],
        [
         "Team Sports",
         300.0,
         null
        ]
       ],
       "datasetInfos": [],
       "dbfsResultPath": null,
       "isJsonSchema": true,
       "metadata": {},
       "overflow": false,
       "plotOptions": {
        "customPlotOptions": {},
        "displayType": "table",
        "pivotAggregation": null,
        "pivotColumns": null,
        "xColumns": null,
        "yColumns": null
       },
       "removedWidgets": [],
       "schema": [
        {
         "metadata": "{}",
         "name": "category",
         "type": "\"string\""
        },
        {
         "metadata": "{}",
         "name": "amount",
         "type": "\"double\""
        },
        {
         "metadata": "{}",
         "name": "lead_datax",
         "type": "\"double\""
        }
       ],
       "type": "table"
      }
     },
     "output_type": "display_data"
    }
   ],
   "source": [
    "spark.sql(\"SELECT category, amount, lead(amount) OVER (PARTITION BY category ORDER BY amount DESC) as lead_datax FROM df\").display()"
   ]
  },
  {
   "cell_type": "code",
   "execution_count": 0,
   "metadata": {
    "application/vnd.databricks.v1+cell": {
     "cellMetadata": {
      "byteLimit": 2048000,
      "rowLimit": 10000
     },
     "inputWidgets": {},
     "nuid": "d527716f-6cec-4f14-8662-f83573e0621e",
     "showTitle": false,
     "tableResultSettingsMap": {},
     "title": ""
    }
   },
   "outputs": [
    {
     "output_type": "display_data",
     "data": {
      "text/html": [
       "<style scoped>\n",
       "  .table-result-container {\n",
       "    max-height: 300px;\n",
       "    overflow: auto;\n",
       "  }\n",
       "  table, th, td {\n",
       "    border: 1px solid black;\n",
       "    border-collapse: collapse;\n",
       "  }\n",
       "  th, td {\n",
       "    padding: 5px;\n",
       "  }\n",
       "  th {\n",
       "    text-align: left;\n",
       "  }\n",
       "</style><div class='table-result-container'><table class='table-result'><thead style='background-color: white'><tr><th>category</th><th>amount</th><th>lag_datax</th></tr></thead><tbody><tr><td>Exercise</td><td>300.4</td><td>null</td></tr><tr><td>Exercise</td><td>300.4</td><td>300.4</td></tr><tr><td>Exercise</td><td>100.0</td><td>300.4</td></tr><tr><td>Exercise Band</td><td>200.0</td><td>null</td></tr><tr><td>Gymnastics</td><td>200.0</td><td>null</td></tr><tr><td>Gymnastics</td><td>200.0</td><td>200.0</td></tr><tr><td>Gymnastics</td><td>100.0</td><td>200.0</td></tr><tr><td>Team Sports</td><td>300.0</td><td>null</td></tr><tr><td>Team Sports</td><td>300.0</td><td>300.0</td></tr></tbody></table></div>"
      ]
     },
     "metadata": {
      "application/vnd.databricks.v1+output": {
       "addedWidgets": {},
       "aggData": [],
       "aggError": "",
       "aggOverflow": false,
       "aggSchema": [],
       "aggSeriesLimitReached": false,
       "aggType": "",
       "arguments": {},
       "columnCustomDisplayInfos": {},
       "data": [
        [
         "Exercise",
         300.4,
         null
        ],
        [
         "Exercise",
         300.4,
         300.4
        ],
        [
         "Exercise",
         100.0,
         300.4
        ],
        [
         "Exercise Band",
         200.0,
         null
        ],
        [
         "Gymnastics",
         200.0,
         null
        ],
        [
         "Gymnastics",
         200.0,
         200.0
        ],
        [
         "Gymnastics",
         100.0,
         200.0
        ],
        [
         "Team Sports",
         300.0,
         null
        ],
        [
         "Team Sports",
         300.0,
         300.0
        ]
       ],
       "datasetInfos": [],
       "dbfsResultPath": null,
       "isJsonSchema": true,
       "metadata": {},
       "overflow": false,
       "plotOptions": {
        "customPlotOptions": {},
        "displayType": "table",
        "pivotAggregation": null,
        "pivotColumns": null,
        "xColumns": null,
        "yColumns": null
       },
       "removedWidgets": [],
       "schema": [
        {
         "metadata": "{}",
         "name": "category",
         "type": "\"string\""
        },
        {
         "metadata": "{}",
         "name": "amount",
         "type": "\"double\""
        },
        {
         "metadata": "{}",
         "name": "lag_datax",
         "type": "\"double\""
        }
       ],
       "type": "table"
      }
     },
     "output_type": "display_data"
    }
   ],
   "source": [
    "spark.sql(\"SELECT category, amount, lag(amount) OVER (PARTITION BY category ORDER BY amount DESC) as lag_datax FROM df\").display()"
   ]
  },
  {
   "cell_type": "code",
   "execution_count": 0,
   "metadata": {
    "application/vnd.databricks.v1+cell": {
     "cellMetadata": {
      "byteLimit": 2048000,
      "rowLimit": 10000
     },
     "inputWidgets": {},
     "nuid": "74407aa9-4148-437c-a0ab-3b88a59b959b",
     "showTitle": false,
     "tableResultSettingsMap": {},
     "title": ""
    }
   },
   "outputs": [
    {
     "output_type": "display_data",
     "data": {
      "text/html": [
       "<style scoped>\n",
       "  .table-result-container {\n",
       "    max-height: 300px;\n",
       "    overflow: auto;\n",
       "  }\n",
       "  table, th, td {\n",
       "    border: 1px solid black;\n",
       "    border-collapse: collapse;\n",
       "  }\n",
       "  th, td {\n",
       "    padding: 5px;\n",
       "  }\n",
       "  th {\n",
       "    text-align: left;\n",
       "  }\n",
       "</style><div class='table-result-container'><table class='table-result'><thead style='background-color: white'><tr><th>category</th><th>cnt</th></tr></thead><tbody><tr><td>Exercise</td><td>3</td></tr><tr><td>Gymnastics</td><td>3</td></tr><tr><td>Team Sports</td><td>2</td></tr></tbody></table></div>"
      ]
     },
     "metadata": {
      "application/vnd.databricks.v1+output": {
       "addedWidgets": {},
       "aggData": [],
       "aggError": "",
       "aggOverflow": false,
       "aggSchema": [],
       "aggSeriesLimitReached": false,
       "aggType": "",
       "arguments": {},
       "columnCustomDisplayInfos": {},
       "data": [
        [
         "Exercise",
         3
        ],
        [
         "Gymnastics",
         3
        ],
        [
         "Team Sports",
         2
        ]
       ],
       "datasetInfos": [],
       "dbfsResultPath": null,
       "isJsonSchema": true,
       "metadata": {},
       "overflow": false,
       "plotOptions": {
        "customPlotOptions": {},
        "displayType": "table",
        "pivotAggregation": null,
        "pivotColumns": null,
        "xColumns": null,
        "yColumns": null
       },
       "removedWidgets": [],
       "schema": [
        {
         "metadata": "{}",
         "name": "category",
         "type": "\"string\""
        },
        {
         "metadata": "{}",
         "name": "cnt",
         "type": "\"long\""
        }
       ],
       "type": "table"
      }
     },
     "output_type": "display_data"
    }
   ],
   "source": [
    "spark.sql(\"SELECT category, count(category) as cnt FROM df GROUP BY category HAVING count(category)>1\").display()"
   ]
  },
  {
   "cell_type": "code",
   "execution_count": 0,
   "metadata": {
    "application/vnd.databricks.v1+cell": {
     "cellMetadata": {
      "byteLimit": 2048000,
      "rowLimit": 10000
     },
     "inputWidgets": {},
     "nuid": "17ac9ed9-a5d3-42cb-8682-5eef7f3d10a5",
     "showTitle": false,
     "tableResultSettingsMap": {},
     "title": ""
    }
   },
   "outputs": [
    {
     "output_type": "display_data",
     "data": {
      "text/html": [
       "<style scoped>\n",
       "  .table-result-container {\n",
       "    max-height: 300px;\n",
       "    overflow: auto;\n",
       "  }\n",
       "  table, th, td {\n",
       "    border: 1px solid black;\n",
       "    border-collapse: collapse;\n",
       "  }\n",
       "  th, td {\n",
       "    padding: 5px;\n",
       "  }\n",
       "  th {\n",
       "    text-align: left;\n",
       "  }\n",
       "</style><div class='table-result-container'><table class='table-result'><thead style='background-color: white'><tr><th>id</th><th>name</th></tr></thead><tbody><tr><td>1</td><td>raj</td></tr><tr><td>2</td><td>ravi</td></tr><tr><td>3</td><td>sai</td></tr><tr><td>5</td><td>rani</td></tr></tbody></table></div>"
      ]
     },
     "metadata": {
      "application/vnd.databricks.v1+output": {
       "addedWidgets": {},
       "aggData": [],
       "aggError": "",
       "aggOverflow": false,
       "aggSchema": [],
       "aggSeriesLimitReached": false,
       "aggType": "",
       "arguments": {},
       "columnCustomDisplayInfos": {},
       "data": [
        [
         1,
         "raj"
        ],
        [
         2,
         "ravi"
        ],
        [
         3,
         "sai"
        ],
        [
         5,
         "rani"
        ]
       ],
       "datasetInfos": [],
       "dbfsResultPath": null,
       "isJsonSchema": true,
       "metadata": {},
       "overflow": false,
       "plotOptions": {
        "customPlotOptions": {},
        "displayType": "table",
        "pivotAggregation": null,
        "pivotColumns": null,
        "xColumns": null,
        "yColumns": null
       },
       "removedWidgets": [],
       "schema": [
        {
         "metadata": "{}",
         "name": "id",
         "type": "\"long\""
        },
        {
         "metadata": "{}",
         "name": "name",
         "type": "\"string\""
        }
       ],
       "type": "table"
      }
     },
     "output_type": "display_data"
    },
    {
     "output_type": "display_data",
     "data": {
      "text/html": [
       "<style scoped>\n",
       "  .table-result-container {\n",
       "    max-height: 300px;\n",
       "    overflow: auto;\n",
       "  }\n",
       "  table, th, td {\n",
       "    border: 1px solid black;\n",
       "    border-collapse: collapse;\n",
       "  }\n",
       "  th, td {\n",
       "    padding: 5px;\n",
       "  }\n",
       "  th {\n",
       "    text-align: left;\n",
       "  }\n",
       "</style><div class='table-result-container'><table class='table-result'><thead style='background-color: white'><tr><th>id</th><th>product</th></tr></thead><tbody><tr><td>1</td><td>mouse</td></tr><tr><td>3</td><td>mobile</td></tr><tr><td>7</td><td>laptop</td></tr></tbody></table></div>"
      ]
     },
     "metadata": {
      "application/vnd.databricks.v1+output": {
       "addedWidgets": {},
       "aggData": [],
       "aggError": "",
       "aggOverflow": false,
       "aggSchema": [],
       "aggSeriesLimitReached": false,
       "aggType": "",
       "arguments": {},
       "columnCustomDisplayInfos": {},
       "data": [
        [
         1,
         "mouse"
        ],
        [
         3,
         "mobile"
        ],
        [
         7,
         "laptop"
        ]
       ],
       "datasetInfos": [],
       "dbfsResultPath": null,
       "isJsonSchema": true,
       "metadata": {},
       "overflow": false,
       "plotOptions": {
        "customPlotOptions": {},
        "displayType": "table",
        "pivotAggregation": null,
        "pivotColumns": null,
        "xColumns": null,
        "yColumns": null
       },
       "removedWidgets": [],
       "schema": [
        {
         "metadata": "{}",
         "name": "id",
         "type": "\"long\""
        },
        {
         "metadata": "{}",
         "name": "product",
         "type": "\"string\""
        }
       ],
       "type": "table"
      }
     },
     "output_type": "display_data"
    }
   ],
   "source": [
    "cust.display()\n",
    "prod.display()"
   ]
  },
  {
   "cell_type": "code",
   "execution_count": 0,
   "metadata": {
    "application/vnd.databricks.v1+cell": {
     "cellMetadata": {
      "byteLimit": 2048000,
      "rowLimit": 10000
     },
     "inputWidgets": {},
     "nuid": "7668447a-1009-4c1a-9849-8eb5dc7250ba",
     "showTitle": false,
     "tableResultSettingsMap": {},
     "title": ""
    }
   },
   "outputs": [
    {
     "output_type": "display_data",
     "data": {
      "text/html": [
       "<style scoped>\n",
       "  .table-result-container {\n",
       "    max-height: 300px;\n",
       "    overflow: auto;\n",
       "  }\n",
       "  table, th, td {\n",
       "    border: 1px solid black;\n",
       "    border-collapse: collapse;\n",
       "  }\n",
       "  th, td {\n",
       "    padding: 5px;\n",
       "  }\n",
       "  th {\n",
       "    text-align: left;\n",
       "  }\n",
       "</style><div class='table-result-container'><table class='table-result'><thead style='background-color: white'><tr><th>id</th><th>name</th><th>product</th></tr></thead><tbody><tr><td>1</td><td>raj</td><td>mouse</td></tr><tr><td>3</td><td>sai</td><td>mobile</td></tr></tbody></table></div>"
      ]
     },
     "metadata": {
      "application/vnd.databricks.v1+output": {
       "addedWidgets": {},
       "aggData": [],
       "aggError": "",
       "aggOverflow": false,
       "aggSchema": [],
       "aggSeriesLimitReached": false,
       "aggType": "",
       "arguments": {},
       "columnCustomDisplayInfos": {},
       "data": [
        [
         1,
         "raj",
         "mouse"
        ],
        [
         3,
         "sai",
         "mobile"
        ]
       ],
       "datasetInfos": [],
       "dbfsResultPath": null,
       "isJsonSchema": true,
       "metadata": {},
       "overflow": false,
       "plotOptions": {
        "customPlotOptions": {},
        "displayType": "table",
        "pivotAggregation": null,
        "pivotColumns": null,
        "xColumns": null,
        "yColumns": null
       },
       "removedWidgets": [],
       "schema": [
        {
         "metadata": "{}",
         "name": "id",
         "type": "\"long\""
        },
        {
         "metadata": "{}",
         "name": "name",
         "type": "\"string\""
        },
        {
         "metadata": "{}",
         "name": "product",
         "type": "\"string\""
        }
       ],
       "type": "table"
      }
     },
     "output_type": "display_data"
    }
   ],
   "source": [
    "spark.sql(\"SELECT a.*, product FROM cust a JOIN prod b ON a.id == b.id\").display()"
   ]
  },
  {
   "cell_type": "code",
   "execution_count": 0,
   "metadata": {
    "application/vnd.databricks.v1+cell": {
     "cellMetadata": {
      "byteLimit": 2048000,
      "rowLimit": 10000
     },
     "inputWidgets": {},
     "nuid": "cfd489cb-94ae-429f-a718-442bb886a3a2",
     "showTitle": false,
     "tableResultSettingsMap": {},
     "title": ""
    }
   },
   "outputs": [
    {
     "output_type": "display_data",
     "data": {
      "text/html": [
       "<style scoped>\n",
       "  .table-result-container {\n",
       "    max-height: 300px;\n",
       "    overflow: auto;\n",
       "  }\n",
       "  table, th, td {\n",
       "    border: 1px solid black;\n",
       "    border-collapse: collapse;\n",
       "  }\n",
       "  th, td {\n",
       "    padding: 5px;\n",
       "  }\n",
       "  th {\n",
       "    text-align: left;\n",
       "  }\n",
       "</style><div class='table-result-container'><table class='table-result'><thead style='background-color: white'><tr><th>id</th><th>name</th><th>product</th></tr></thead><tbody><tr><td>1</td><td>raj</td><td>mouse</td></tr><tr><td>3</td><td>sai</td><td>mobile</td></tr></tbody></table></div>"
      ]
     },
     "metadata": {
      "application/vnd.databricks.v1+output": {
       "addedWidgets": {},
       "aggData": [],
       "aggError": "",
       "aggOverflow": false,
       "aggSchema": [],
       "aggSeriesLimitReached": false,
       "aggType": "",
       "arguments": {},
       "columnCustomDisplayInfos": {},
       "data": [
        [
         1,
         "raj",
         "mouse"
        ],
        [
         3,
         "sai",
         "mobile"
        ]
       ],
       "datasetInfos": [],
       "dbfsResultPath": null,
       "isJsonSchema": true,
       "metadata": {},
       "overflow": false,
       "plotOptions": {
        "customPlotOptions": {},
        "displayType": "table",
        "pivotAggregation": null,
        "pivotColumns": null,
        "xColumns": null,
        "yColumns": null
       },
       "removedWidgets": [],
       "schema": [
        {
         "metadata": "{}",
         "name": "id",
         "type": "\"long\""
        },
        {
         "metadata": "{}",
         "name": "name",
         "type": "\"string\""
        },
        {
         "metadata": "{}",
         "name": "product",
         "type": "\"string\""
        }
       ],
       "type": "table"
      }
     },
     "output_type": "display_data"
    }
   ],
   "source": [
    "spark.sql(\"SELECT cust.id, cust.name, prod.product FROM cust JOIN prod ON cust.id == prod.id\").display()"
   ]
  },
  {
   "cell_type": "code",
   "execution_count": 0,
   "metadata": {
    "application/vnd.databricks.v1+cell": {
     "cellMetadata": {
      "byteLimit": 2048000,
      "rowLimit": 10000
     },
     "inputWidgets": {},
     "nuid": "70ed59ca-166a-480c-9fae-2555b9973dd5",
     "showTitle": false,
     "tableResultSettingsMap": {},
     "title": ""
    }
   },
   "outputs": [
    {
     "output_type": "display_data",
     "data": {
      "text/html": [
       "<style scoped>\n",
       "  .table-result-container {\n",
       "    max-height: 300px;\n",
       "    overflow: auto;\n",
       "  }\n",
       "  table, th, td {\n",
       "    border: 1px solid black;\n",
       "    border-collapse: collapse;\n",
       "  }\n",
       "  th, td {\n",
       "    padding: 5px;\n",
       "  }\n",
       "  th {\n",
       "    text-align: left;\n",
       "  }\n",
       "</style><div class='table-result-container'><table class='table-result'><thead style='background-color: white'><tr><th>id</th><th>name</th><th>product</th></tr></thead><tbody><tr><td>1</td><td>raj</td><td>mouse</td></tr><tr><td>2</td><td>ravi</td><td>null</td></tr><tr><td>3</td><td>sai</td><td>mobile</td></tr><tr><td>5</td><td>rani</td><td>null</td></tr></tbody></table></div>"
      ]
     },
     "metadata": {
      "application/vnd.databricks.v1+output": {
       "addedWidgets": {},
       "aggData": [],
       "aggError": "",
       "aggOverflow": false,
       "aggSchema": [],
       "aggSeriesLimitReached": false,
       "aggType": "",
       "arguments": {},
       "columnCustomDisplayInfos": {},
       "data": [
        [
         1,
         "raj",
         "mouse"
        ],
        [
         2,
         "ravi",
         null
        ],
        [
         3,
         "sai",
         "mobile"
        ],
        [
         5,
         "rani",
         null
        ]
       ],
       "datasetInfos": [],
       "dbfsResultPath": null,
       "isJsonSchema": true,
       "metadata": {},
       "overflow": false,
       "plotOptions": {
        "customPlotOptions": {},
        "displayType": "table",
        "pivotAggregation": null,
        "pivotColumns": null,
        "xColumns": null,
        "yColumns": null
       },
       "removedWidgets": [],
       "schema": [
        {
         "metadata": "{}",
         "name": "id",
         "type": "\"long\""
        },
        {
         "metadata": "{}",
         "name": "name",
         "type": "\"string\""
        },
        {
         "metadata": "{}",
         "name": "product",
         "type": "\"string\""
        }
       ],
       "type": "table"
      }
     },
     "output_type": "display_data"
    }
   ],
   "source": [
    "spark.sql(\"SELECT c.id, c.name, p.product FROM cust c LEFT JOIN prod p ON c.id == p.id\").display()"
   ]
  },
  {
   "cell_type": "code",
   "execution_count": 0,
   "metadata": {
    "application/vnd.databricks.v1+cell": {
     "cellMetadata": {
      "byteLimit": 2048000,
      "rowLimit": 10000
     },
     "inputWidgets": {},
     "nuid": "33bbe802-9c42-4a76-a657-ce4b74f2adba",
     "showTitle": false,
     "tableResultSettingsMap": {},
     "title": ""
    }
   },
   "outputs": [
    {
     "output_type": "display_data",
     "data": {
      "text/html": [
       "<style scoped>\n",
       "  .table-result-container {\n",
       "    max-height: 300px;\n",
       "    overflow: auto;\n",
       "  }\n",
       "  table, th, td {\n",
       "    border: 1px solid black;\n",
       "    border-collapse: collapse;\n",
       "  }\n",
       "  th, td {\n",
       "    padding: 5px;\n",
       "  }\n",
       "  th {\n",
       "    text-align: left;\n",
       "  }\n",
       "</style><div class='table-result-container'><table class='table-result'><thead style='background-color: white'><tr><th>id</th><th>name</th><th>product</th></tr></thead><tbody><tr><td>1</td><td>raj</td><td>mouse</td></tr><tr><td>3</td><td>sai</td><td>mobile</td></tr><tr><td>null</td><td>null</td><td>laptop</td></tr></tbody></table></div>"
      ]
     },
     "metadata": {
      "application/vnd.databricks.v1+output": {
       "addedWidgets": {},
       "aggData": [],
       "aggError": "",
       "aggOverflow": false,
       "aggSchema": [],
       "aggSeriesLimitReached": false,
       "aggType": "",
       "arguments": {},
       "columnCustomDisplayInfos": {},
       "data": [
        [
         1,
         "raj",
         "mouse"
        ],
        [
         3,
         "sai",
         "mobile"
        ],
        [
         null,
         null,
         "laptop"
        ]
       ],
       "datasetInfos": [],
       "dbfsResultPath": null,
       "isJsonSchema": true,
       "metadata": {},
       "overflow": false,
       "plotOptions": {
        "customPlotOptions": {},
        "displayType": "table",
        "pivotAggregation": null,
        "pivotColumns": null,
        "xColumns": null,
        "yColumns": null
       },
       "removedWidgets": [],
       "schema": [
        {
         "metadata": "{}",
         "name": "id",
         "type": "\"long\""
        },
        {
         "metadata": "{}",
         "name": "name",
         "type": "\"string\""
        },
        {
         "metadata": "{}",
         "name": "product",
         "type": "\"string\""
        }
       ],
       "type": "table"
      }
     },
     "output_type": "display_data"
    }
   ],
   "source": [
    "spark.sql(\"SELECT c.id, c.name, p.product FROM cust c RIGHT JOIN prod p ON c.id == p.id\").display()"
   ]
  },
  {
   "cell_type": "code",
   "execution_count": 0,
   "metadata": {
    "application/vnd.databricks.v1+cell": {
     "cellMetadata": {
      "byteLimit": 2048000,
      "rowLimit": 10000
     },
     "inputWidgets": {},
     "nuid": "d7385da5-df74-46ae-b1b7-ad0e663cc097",
     "showTitle": false,
     "tableResultSettingsMap": {},
     "title": ""
    }
   },
   "outputs": [
    {
     "output_type": "display_data",
     "data": {
      "text/html": [
       "<style scoped>\n",
       "  .table-result-container {\n",
       "    max-height: 300px;\n",
       "    overflow: auto;\n",
       "  }\n",
       "  table, th, td {\n",
       "    border: 1px solid black;\n",
       "    border-collapse: collapse;\n",
       "  }\n",
       "  th, td {\n",
       "    padding: 5px;\n",
       "  }\n",
       "  th {\n",
       "    text-align: left;\n",
       "  }\n",
       "</style><div class='table-result-container'><table class='table-result'><thead style='background-color: white'><tr><th>id</th><th>name</th><th>product</th></tr></thead><tbody><tr><td>1</td><td>raj</td><td>mouse</td></tr><tr><td>1</td><td>raj</td><td>mobile</td></tr><tr><td>1</td><td>raj</td><td>laptop</td></tr><tr><td>2</td><td>ravi</td><td>mouse</td></tr><tr><td>2</td><td>ravi</td><td>mobile</td></tr><tr><td>2</td><td>ravi</td><td>laptop</td></tr><tr><td>3</td><td>sai</td><td>mouse</td></tr><tr><td>3</td><td>sai</td><td>mobile</td></tr><tr><td>3</td><td>sai</td><td>laptop</td></tr><tr><td>5</td><td>rani</td><td>mouse</td></tr><tr><td>5</td><td>rani</td><td>mobile</td></tr><tr><td>5</td><td>rani</td><td>laptop</td></tr></tbody></table></div>"
      ]
     },
     "metadata": {
      "application/vnd.databricks.v1+output": {
       "addedWidgets": {},
       "aggData": [],
       "aggError": "",
       "aggOverflow": false,
       "aggSchema": [],
       "aggSeriesLimitReached": false,
       "aggType": "",
       "arguments": {},
       "columnCustomDisplayInfos": {},
       "data": [
        [
         1,
         "raj",
         "mouse"
        ],
        [
         1,
         "raj",
         "mobile"
        ],
        [
         1,
         "raj",
         "laptop"
        ],
        [
         2,
         "ravi",
         "mouse"
        ],
        [
         2,
         "ravi",
         "mobile"
        ],
        [
         2,
         "ravi",
         "laptop"
        ],
        [
         3,
         "sai",
         "mouse"
        ],
        [
         3,
         "sai",
         "mobile"
        ],
        [
         3,
         "sai",
         "laptop"
        ],
        [
         5,
         "rani",
         "mouse"
        ],
        [
         5,
         "rani",
         "mobile"
        ],
        [
         5,
         "rani",
         "laptop"
        ]
       ],
       "datasetInfos": [],
       "dbfsResultPath": null,
       "isJsonSchema": true,
       "metadata": {},
       "overflow": false,
       "plotOptions": {
        "customPlotOptions": {},
        "displayType": "table",
        "pivotAggregation": null,
        "pivotColumns": null,
        "xColumns": null,
        "yColumns": null
       },
       "removedWidgets": [],
       "schema": [
        {
         "metadata": "{}",
         "name": "id",
         "type": "\"long\""
        },
        {
         "metadata": "{}",
         "name": "name",
         "type": "\"string\""
        },
        {
         "metadata": "{}",
         "name": "product",
         "type": "\"string\""
        }
       ],
       "type": "table"
      }
     },
     "output_type": "display_data"
    }
   ],
   "source": [
    "spark.sql(\"SELECT c.id, c.name, p.product FROM cust c CROSS JOIN prod p\").display()"
   ]
  },
  {
   "cell_type": "code",
   "execution_count": 0,
   "metadata": {
    "application/vnd.databricks.v1+cell": {
     "cellMetadata": {
      "byteLimit": 2048000,
      "rowLimit": 10000
     },
     "inputWidgets": {},
     "nuid": "9f0bf7e2-f9c1-41dc-8ab8-5277d62c75fd",
     "showTitle": false,
     "tableResultSettingsMap": {},
     "title": ""
    }
   },
   "outputs": [
    {
     "output_type": "display_data",
     "data": {
      "text/html": [
       "<style scoped>\n",
       "  .table-result-container {\n",
       "    max-height: 300px;\n",
       "    overflow: auto;\n",
       "  }\n",
       "  table, th, td {\n",
       "    border: 1px solid black;\n",
       "    border-collapse: collapse;\n",
       "  }\n",
       "  th, td {\n",
       "    padding: 5px;\n",
       "  }\n",
       "  th {\n",
       "    text-align: left;\n",
       "  }\n",
       "</style><div class='table-result-container'><table class='table-result'><thead style='background-color: white'><tr><th>id</th><th>name</th><th>product</th></tr></thead><tbody><tr><td>1</td><td>raj</td><td>mouse</td></tr><tr><td>1</td><td>ravi</td><td>mouse</td></tr><tr><td>1</td><td>sai</td><td>mouse</td></tr><tr><td>1</td><td>rani</td><td>mouse</td></tr><tr><td>3</td><td>raj</td><td>mobile</td></tr><tr><td>3</td><td>ravi</td><td>mobile</td></tr><tr><td>3</td><td>sai</td><td>mobile</td></tr><tr><td>3</td><td>rani</td><td>mobile</td></tr><tr><td>7</td><td>raj</td><td>laptop</td></tr><tr><td>7</td><td>ravi</td><td>laptop</td></tr><tr><td>7</td><td>sai</td><td>laptop</td></tr><tr><td>7</td><td>rani</td><td>laptop</td></tr></tbody></table></div>"
      ]
     },
     "metadata": {
      "application/vnd.databricks.v1+output": {
       "addedWidgets": {},
       "aggData": [],
       "aggError": "",
       "aggOverflow": false,
       "aggSchema": [],
       "aggSeriesLimitReached": false,
       "aggType": "",
       "arguments": {},
       "columnCustomDisplayInfos": {},
       "data": [
        [
         1,
         "raj",
         "mouse"
        ],
        [
         1,
         "ravi",
         "mouse"
        ],
        [
         1,
         "sai",
         "mouse"
        ],
        [
         1,
         "rani",
         "mouse"
        ],
        [
         3,
         "raj",
         "mobile"
        ],
        [
         3,
         "ravi",
         "mobile"
        ],
        [
         3,
         "sai",
         "mobile"
        ],
        [
         3,
         "rani",
         "mobile"
        ],
        [
         7,
         "raj",
         "laptop"
        ],
        [
         7,
         "ravi",
         "laptop"
        ],
        [
         7,
         "sai",
         "laptop"
        ],
        [
         7,
         "rani",
         "laptop"
        ]
       ],
       "datasetInfos": [],
       "dbfsResultPath": null,
       "isJsonSchema": true,
       "metadata": {},
       "overflow": false,
       "plotOptions": {
        "customPlotOptions": {},
        "displayType": "table",
        "pivotAggregation": null,
        "pivotColumns": null,
        "xColumns": null,
        "yColumns": null
       },
       "removedWidgets": [],
       "schema": [
        {
         "metadata": "{}",
         "name": "id",
         "type": "\"long\""
        },
        {
         "metadata": "{}",
         "name": "name",
         "type": "\"string\""
        },
        {
         "metadata": "{}",
         "name": "product",
         "type": "\"string\""
        }
       ],
       "type": "table"
      }
     },
     "output_type": "display_data"
    }
   ],
   "source": [
    "spark.sql(\"SELECT p.id, c.name, p.product FROM prod p CROSS JOIN cust c\").display()"
   ]
  },
  {
   "cell_type": "code",
   "execution_count": 0,
   "metadata": {
    "application/vnd.databricks.v1+cell": {
     "cellMetadata": {
      "byteLimit": 2048000,
      "rowLimit": 10000
     },
     "inputWidgets": {},
     "nuid": "0a7f1c02-320d-4d4b-ad44-774785e1312f",
     "showTitle": false,
     "tableResultSettingsMap": {},
     "title": ""
    }
   },
   "outputs": [
    {
     "output_type": "display_data",
     "data": {
      "text/html": [
       "<style scoped>\n",
       "  .table-result-container {\n",
       "    max-height: 300px;\n",
       "    overflow: auto;\n",
       "  }\n",
       "  table, th, td {\n",
       "    border: 1px solid black;\n",
       "    border-collapse: collapse;\n",
       "  }\n",
       "  th, td {\n",
       "    padding: 5px;\n",
       "  }\n",
       "  th {\n",
       "    text-align: left;\n",
       "  }\n",
       "</style><div class='table-result-container'><table class='table-result'><thead style='background-color: white'><tr><th>id</th><th>name</th><th>product</th></tr></thead><tbody><tr><td>1</td><td>raj</td><td>mouse</td></tr><tr><td>2</td><td>ravi</td><td>null</td></tr><tr><td>3</td><td>sai</td><td>mobile</td></tr><tr><td>5</td><td>rani</td><td>null</td></tr><tr><td>null</td><td>null</td><td>laptop</td></tr></tbody></table></div>"
      ]
     },
     "metadata": {
      "application/vnd.databricks.v1+output": {
       "addedWidgets": {},
       "aggData": [],
       "aggError": "",
       "aggOverflow": false,
       "aggSchema": [],
       "aggSeriesLimitReached": false,
       "aggType": "",
       "arguments": {},
       "columnCustomDisplayInfos": {},
       "data": [
        [
         1,
         "raj",
         "mouse"
        ],
        [
         2,
         "ravi",
         null
        ],
        [
         3,
         "sai",
         "mobile"
        ],
        [
         5,
         "rani",
         null
        ],
        [
         null,
         null,
         "laptop"
        ]
       ],
       "datasetInfos": [],
       "dbfsResultPath": null,
       "isJsonSchema": true,
       "metadata": {},
       "overflow": false,
       "plotOptions": {
        "customPlotOptions": {},
        "displayType": "table",
        "pivotAggregation": null,
        "pivotColumns": null,
        "xColumns": null,
        "yColumns": null
       },
       "removedWidgets": [],
       "schema": [
        {
         "metadata": "{}",
         "name": "id",
         "type": "\"long\""
        },
        {
         "metadata": "{}",
         "name": "name",
         "type": "\"string\""
        },
        {
         "metadata": "{}",
         "name": "product",
         "type": "\"string\""
        }
       ],
       "type": "table"
      }
     },
     "output_type": "display_data"
    }
   ],
   "source": [
    "spark.sql(\"SELECT c.id, c.name, p.product FROM cust c FULL JOIN prod p ON c.id == p.id\").display()"
   ]
  },
  {
   "cell_type": "code",
   "execution_count": 0,
   "metadata": {
    "application/vnd.databricks.v1+cell": {
     "cellMetadata": {
      "byteLimit": 2048000,
      "rowLimit": 10000
     },
     "inputWidgets": {},
     "nuid": "e5664892-dec6-4f8d-94ed-9d2591d763e7",
     "showTitle": false,
     "tableResultSettingsMap": {},
     "title": ""
    }
   },
   "outputs": [
    {
     "output_type": "display_data",
     "data": {
      "text/html": [
       "<style scoped>\n",
       "  .table-result-container {\n",
       "    max-height: 300px;\n",
       "    overflow: auto;\n",
       "  }\n",
       "  table, th, td {\n",
       "    border: 1px solid black;\n",
       "    border-collapse: collapse;\n",
       "  }\n",
       "  th, td {\n",
       "    padding: 5px;\n",
       "  }\n",
       "  th {\n",
       "    text-align: left;\n",
       "  }\n",
       "</style><div class='table-result-container'><table class='table-result'><thead style='background-color: white'><tr><th>id</th><th>name</th></tr></thead><tbody><tr><td>2</td><td>ravi</td></tr><tr><td>5</td><td>rani</td></tr></tbody></table></div>"
      ]
     },
     "metadata": {
      "application/vnd.databricks.v1+output": {
       "addedWidgets": {},
       "aggData": [],
       "aggError": "",
       "aggOverflow": false,
       "aggSchema": [],
       "aggSeriesLimitReached": false,
       "aggType": "",
       "arguments": {},
       "columnCustomDisplayInfos": {},
       "data": [
        [
         2,
         "ravi"
        ],
        [
         5,
         "rani"
        ]
       ],
       "datasetInfos": [],
       "dbfsResultPath": null,
       "isJsonSchema": true,
       "metadata": {},
       "overflow": false,
       "plotOptions": {
        "customPlotOptions": {},
        "displayType": "table",
        "pivotAggregation": null,
        "pivotColumns": null,
        "xColumns": null,
        "yColumns": null
       },
       "removedWidgets": [],
       "schema": [
        {
         "metadata": "{}",
         "name": "id",
         "type": "\"long\""
        },
        {
         "metadata": "{}",
         "name": "name",
         "type": "\"string\""
        }
       ],
       "type": "table"
      }
     },
     "output_type": "display_data"
    }
   ],
   "source": [
    "spark.sql(\"SELECT c.id, c.name FROM cust c LEFT ANTI JOIN prod p ON c.id == p.id\").display()"
   ]
  }
 ],
 "metadata": {
  "application/vnd.databricks.v1+notebook": {
   "computePreferences": null,
   "dashboards": [],
   "environmentMetadata": {
    "base_environment": "",
    "client": "1"
   },
   "language": "python",
   "notebookMetadata": {
    "pythonIndentUnit": 4
   },
   "notebookName": "Spark.sql-Notes",
   "widgets": {}
  }
 },
 "nbformat": 4,
 "nbformat_minor": 0
}
